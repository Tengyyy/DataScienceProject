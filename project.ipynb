{
 "cells": [
  {
   "cell_type": "code",
   "execution_count": 115,
   "id": "initial_id",
   "metadata": {
    "ExecuteTime": {
     "end_time": "2023-12-10T20:42:56.915389300Z",
     "start_time": "2023-12-10T20:42:56.892016700Z"
    }
   },
   "outputs": [
    {
     "data": {
      "text/html": "<img src=\"nba-karl-malone.gif\"/>",
      "text/plain": "<IPython.core.display.Image object>"
     },
     "execution_count": 115,
     "metadata": {},
     "output_type": "execute_result"
    }
   ],
   "source": [
    "import numpy as np\n",
    "from IPython.display import Image\n",
    "import pandas as pd\n",
    "from sklearn.model_selection import train_test_split\n",
    "from sklearn.metrics import classification_report, confusion_matrix\n",
    "from sklearn.linear_model import LogisticRegression\n",
    "from sklearn.ensemble import RandomForestClassifier\n",
    "from sklearn.neighbors import KNeighborsClassifier\n",
    "Image(url='nba-karl-malone.gif')"
   ]
  },
  {
   "cell_type": "code",
   "execution_count": 116,
   "outputs": [],
   "source": [
    "player_totals=pd.read_csv('./data/Player Totals.csv')\n",
    "player_season_info=pd.read_csv('./data/Player Season Info.csv')\n",
    "player_career_info=pd.read_csv('./data/Player Career Info.csv')\n",
    "player_award_shares=pd.read_csv('./data/Player Award Shares.csv')\n",
    "all_star=pd.read_csv('./data/All-Star Selections.csv')\n",
    "advanced=pd.read_csv('./data/Advanced.csv')\n",
    "end_of_season=pd.read_csv('./data/End of Season Teams.csv')\n",
    "\n",
    "hof=player_career_info.drop(['birth_year','num_seasons'],axis=1)\n",
    "player_names_and_seasons=hof[['player','first_seas','last_seas','player_id']]"
   ],
   "metadata": {
    "collapsed": false,
    "ExecuteTime": {
     "end_time": "2023-12-10T20:42:59.867783600Z",
     "start_time": "2023-12-10T20:42:59.624686300Z"
    }
   },
   "id": "d1aefb35ad980444"
  },
  {
   "cell_type": "code",
   "execution_count": 117,
   "outputs": [],
   "source": [
    "seasons = np.flip(player_totals.season.unique())\n",
    "seasons_leaderboards = {}\n",
    "for season in seasons:\n",
    "    season_top10s = {'pts': player_totals[player_totals['season'] == season].sort_values(by=['pts']).tail(10),\n",
    "                     'reb': player_totals[player_totals['season'] == season].sort_values(by=['trb']).tail(10),\n",
    "                     'ast': player_totals[player_totals['season'] == season].sort_values(by=['ast']).tail(10),\n",
    "                     'min': player_totals[player_totals['season'] == season].sort_values(by=['mp']).tail(10),\n",
    "                     'stl': player_totals[player_totals['season'] == season].sort_values(by=['stl']).tail(10),\n",
    "                     'blk': player_totals[player_totals['season'] == season].sort_values(by=['blk']).tail(10)}\n",
    "    seasons_leaderboards[season] = season_top10s"
   ],
   "metadata": {
    "collapsed": false,
    "ExecuteTime": {
     "end_time": "2023-12-10T20:43:02.114724700Z",
     "start_time": "2023-12-10T20:43:01.424928200Z"
    }
   },
   "id": "219755931abc6fff"
  },
  {
   "cell_type": "code",
   "execution_count": 4,
   "outputs": [
    {
     "name": "stdout",
     "output_type": "stream",
     "text": [
      "0\n",
      "250\n",
      "500\n",
      "750\n",
      "1000\n",
      "1250\n",
      "1500\n",
      "1750\n",
      "2000\n",
      "2250\n",
      "2500\n",
      "2750\n",
      "3000\n",
      "3250\n",
      "3500\n",
      "3750\n",
      "4000\n",
      "4250\n",
      "4500\n",
      "4750\n",
      "5000\n"
     ]
    }
   ],
   "source": [
    "leaderboard_points=[]\n",
    "for i in range(len(player_names_and_seasons)):\n",
    "    x=0\n",
    "    if i%250==0:\n",
    "        print(i)\n",
    "    for season in range(player_names_and_seasons.iloc[i].first_seas,player_names_and_seasons.iloc[i].last_seas+1):\n",
    "        top10_pts = seasons_leaderboards[season]['pts']\n",
    "        top10_reb = seasons_leaderboards[season]['reb']\n",
    "        top10_ast = seasons_leaderboards[season]['ast']\n",
    "        top10_min = seasons_leaderboards[season]['min']\n",
    "        top10_stl = seasons_leaderboards[season]['stl']\n",
    "        top10_blk = seasons_leaderboards[season]['blk']\n",
    "        for j in range(9,-1,-1):\n",
    "            if top10_pts.iloc[j].player_id == player_names_and_seasons.iloc[i].player_id:\n",
    "                x+=(5 + j/2)\n",
    "            if top10_reb.iloc[j].player_id == player_names_and_seasons.iloc[i].player_id:\n",
    "                x+=(5 + j/2)\n",
    "            if top10_ast.iloc[j].player_id == player_names_and_seasons.iloc[i].player_id:\n",
    "                x+=(5 + j/2)\n",
    "            if top10_min.iloc[j].player_id == player_names_and_seasons.iloc[i].player_id:\n",
    "                x+=(5 + j/2)\n",
    "            if top10_stl.iloc[j].player_id == player_names_and_seasons.iloc[i].player_id:\n",
    "                x+=(5 + j/2)\n",
    "            if top10_blk.iloc[j].player_id == player_names_and_seasons.iloc[i].player_id:\n",
    "                x+=(5 + j/2)\n",
    "    leaderboard_points.append(x)\n",
    "    \n",
    "hof['Leaderboard points']=leaderboard_points        "
   ],
   "metadata": {
    "collapsed": false,
    "ExecuteTime": {
     "end_time": "2023-12-10T19:45:45.557703200Z",
     "start_time": "2023-12-10T19:38:54.841534600Z"
    }
   },
   "id": "5d6bebe4191fc8f9"
  },
  {
   "cell_type": "code",
   "execution_count": 118,
   "outputs": [],
   "source": [
    "allstar=[]\n",
    "for i in range(len(player_names_and_seasons)):\n",
    "    x=0\n",
    "    all_stars=all_star[all_star['player']==player_names_and_seasons.iloc[i].player]\n",
    "    for j in range(len(all_stars)):\n",
    "        if player_names_and_seasons.iloc[i].first_seas <= all_stars.iloc[j].season <= player_names_and_seasons.iloc[i].last_seas:\n",
    "            x = x + 1\n",
    "            \n",
    "    allstar.append(x)\n",
    "\n",
    "hof['All-Star appearances']=allstar        "
   ],
   "metadata": {
    "collapsed": false,
    "ExecuteTime": {
     "end_time": "2023-12-10T20:43:08.549100100Z",
     "start_time": "2023-12-10T20:43:05.240311700Z"
    }
   },
   "id": "bf19dc2e1f92db64"
  },
  {
   "cell_type": "code",
   "execution_count": 119,
   "outputs": [
    {
     "data": {
      "text/plain": "Index(['Player', 'From', 'To', 'Years', 'Pos', 'Ht', 'Height', 'Wt', 'G',\n       'PTS', 'TRB', 'AST', 'FG%', 'FG3%', 'FT%', 'eFG%', 'PER', 'WS',\n       'All Star', 'All NBA', 'All ABA', 'All Rookie', 'All Defensive',\n       'BLK Champ', 'STL Champ', 'TRB Champ', 'AST Champ', 'Scoring Champ',\n       'Most Improved', 'Sixth Man', 'DPOY', 'ROY', 'AS MVP', 'CF MVP',\n       'Finals MVP', 'MVP', 'Championships', 'NBA 75 Team',\n       'ABA All-Time Team'],\n      dtype='object')"
     },
     "execution_count": 119,
     "metadata": {},
     "output_type": "execute_result"
    }
   ],
   "source": [
    "clean=pd.read_csv('./data/NBA_players_clean.csv')\n",
    "clean.columns"
   ],
   "metadata": {
    "collapsed": false,
    "ExecuteTime": {
     "end_time": "2023-12-10T20:43:12.057204100Z",
     "start_time": "2023-12-10T20:43:12.031759100Z"
    }
   },
   "id": "bf07fea208fea653"
  },
  {
   "cell_type": "code",
   "execution_count": 120,
   "outputs": [
    {
     "data": {
      "text/plain": "0             Alaa Abdelnaby\n1            Zaid Abdul-Aziz\n2       Kareem Abdul-Jabbar*\n3         Mahmoud Abdul-Rauf\n4          Tariq Abdul-Wahad\n                ...         \n5018              Ante Žižić\n5019                Jim Zoet\n5020               Bill Zopf\n5021             Ivica Zubac\n5022              Matt Zunic\nName: Player, Length: 5023, dtype: object"
     },
     "execution_count": 120,
     "metadata": {},
     "output_type": "execute_result"
    }
   ],
   "source": [
    "clean['Player']"
   ],
   "metadata": {
    "collapsed": false,
    "ExecuteTime": {
     "end_time": "2023-12-10T20:43:14.062474500Z",
     "start_time": "2023-12-10T20:43:14.029583300Z"
    }
   },
   "id": "e00ed6bd99b4efce"
  },
  {
   "cell_type": "code",
   "execution_count": 121,
   "outputs": [],
   "source": [
    "def cut_string(str):\n",
    "    if '*' in str:\n",
    "        return str.split('*')[0]\n",
    "    else:\n",
    "        return str\n",
    "clean['player']=clean['Player'].apply(lambda x:cut_string(x))"
   ],
   "metadata": {
    "collapsed": false,
    "ExecuteTime": {
     "end_time": "2023-12-10T20:43:14.625085800Z",
     "start_time": "2023-12-10T20:43:14.592133700Z"
    }
   },
   "id": "ce72208ed952b429"
  },
  {
   "cell_type": "code",
   "execution_count": 122,
   "outputs": [
    {
     "data": {
      "text/plain": "0            Alaa Abdelnaby\n1           Zaid Abdul-Aziz\n2       Kareem Abdul-Jabbar\n3        Mahmoud Abdul-Rauf\n4         Tariq Abdul-Wahad\n               ...         \n5018             Ante Žižić\n5019               Jim Zoet\n5020              Bill Zopf\n5021            Ivica Zubac\n5022             Matt Zunic\nName: player, Length: 5023, dtype: object"
     },
     "execution_count": 122,
     "metadata": {},
     "output_type": "execute_result"
    }
   ],
   "source": [
    "clean['player']"
   ],
   "metadata": {
    "collapsed": false,
    "ExecuteTime": {
     "end_time": "2023-12-10T20:43:15.975968900Z",
     "start_time": "2023-12-10T20:43:15.962017600Z"
    }
   },
   "id": "516af05504656f43"
  },
  {
   "cell_type": "code",
   "execution_count": 123,
   "outputs": [],
   "source": [
    "rings_list=[]\n",
    "for index, player in player_names_and_seasons.iterrows():\n",
    "    x=0\n",
    "    clean_players=clean[clean.player==player.player]\n",
    "    for index2, clean_player in clean_players.iterrows():\n",
    "        if clean_player.From == player.first_seas and clean_player.To <= player.last_seas:\n",
    "            x = clean_player.Championships\n",
    "\n",
    "    rings_list.append(x)    \n",
    "            \n",
    "hof['Championships']=rings_list     "
   ],
   "metadata": {
    "collapsed": false,
    "ExecuteTime": {
     "end_time": "2023-12-10T20:43:20.613989600Z",
     "start_time": "2023-12-10T20:43:16.417388900Z"
    }
   },
   "id": "38a3ced90bfd9ca4"
  },
  {
   "cell_type": "code",
   "execution_count": 124,
   "outputs": [],
   "source": [
    "best5WSAverage=[]\n",
    "for i in player_names_and_seasons.player_id:\n",
    "    best5WSAverage.append(advanced[advanced['player_id']==i].nlargest(5, 'ws')['ws'].mean())\n",
    "hof['Average of 5 highest WS seasons']=best5WSAverage\n"
   ],
   "metadata": {
    "collapsed": false,
    "ExecuteTime": {
     "end_time": "2023-12-10T20:43:36.297405400Z",
     "start_time": "2023-12-10T20:43:29.689078600Z"
    }
   },
   "id": "8a2430f765f36397"
  },
  {
   "cell_type": "code",
   "execution_count": 125,
   "outputs": [],
   "source": [
    "best5BPMAverage=[]\n",
    "for i in player_names_and_seasons.player_id:\n",
    "    best5BPMAverage.append(advanced[advanced['player_id']==i].nlargest(5, 'bpm')['bpm'].mean())\n",
    "hof['Average of 5 highest BPM seasons']=best5BPMAverage"
   ],
   "metadata": {
    "collapsed": false,
    "ExecuteTime": {
     "end_time": "2023-12-10T20:43:42.578755900Z",
     "start_time": "2023-12-10T20:43:36.299781700Z"
    }
   },
   "id": "526637fdad12d444"
  },
  {
   "cell_type": "code",
   "execution_count": 126,
   "outputs": [],
   "source": [
    "best5VORPAverage=[]\n",
    "for i in player_names_and_seasons.player_id:\n",
    "    best5VORPAverage.append(advanced[advanced['player_id']==i].nlargest(5, 'vorp')['vorp'].mean())\n",
    "hof['Average of 5 highest VORP seasons']=best5VORPAverage"
   ],
   "metadata": {
    "collapsed": false,
    "ExecuteTime": {
     "end_time": "2023-12-10T20:43:49.018551200Z",
     "start_time": "2023-12-10T20:43:42.579842100Z"
    }
   },
   "id": "179290e212a5e048"
  },
  {
   "cell_type": "code",
   "execution_count": 14,
   "outputs": [
    {
     "ename": "AttributeError",
     "evalue": "'float' object has no attribute 'empty'",
     "output_type": "error",
     "traceback": [
      "\u001B[1;31m---------------------------------------------------------------------------\u001B[0m",
      "\u001B[1;31mAttributeError\u001B[0m                            Traceback (most recent call last)",
      "Cell \u001B[1;32mIn [14], line 8\u001B[0m\n\u001B[0;32m      6\u001B[0m \u001B[38;5;28;01mfor\u001B[39;00m index2, clean_player \u001B[38;5;129;01min\u001B[39;00m clean_players\u001B[38;5;241m.\u001B[39miterrows():\n\u001B[0;32m      7\u001B[0m     \u001B[38;5;28;01mif\u001B[39;00m clean_player\u001B[38;5;241m.\u001B[39mFrom \u001B[38;5;241m==\u001B[39m player\u001B[38;5;241m.\u001B[39mfirst_seas \u001B[38;5;129;01mand\u001B[39;00m clean_player\u001B[38;5;241m.\u001B[39mTo \u001B[38;5;241m<\u001B[39m\u001B[38;5;241m=\u001B[39m player\u001B[38;5;241m.\u001B[39mlast_seas:\n\u001B[1;32m----> 8\u001B[0m         \u001B[38;5;28;01mif\u001B[39;00m \u001B[38;5;129;01mnot\u001B[39;00m \u001B[43mclean_player\u001B[49m\u001B[38;5;241;43m.\u001B[39;49m\u001B[43mHeight\u001B[49m\u001B[38;5;241;43m.\u001B[39;49m\u001B[43mempty\u001B[49m: \n\u001B[0;32m      9\u001B[0m             x \u001B[38;5;241m=\u001B[39m clean_player\u001B[38;5;241m.\u001B[39mHeight\n\u001B[0;32m     11\u001B[0m heights\u001B[38;5;241m.\u001B[39mappend(x)    \n",
      "\u001B[1;31mAttributeError\u001B[0m: 'float' object has no attribute 'empty'"
     ]
    }
   ],
   "source": [
    "heights=[]\n",
    "\n",
    "for index, player in player_names_and_seasons.iterrows():\n",
    "    x=clean.Height.mean()\n",
    "    clean_players=clean[clean.player==player.player]\n",
    "    for index2, clean_player in clean_players.iterrows():\n",
    "        if clean_player.From == player.first_seas and clean_player.To <= player.last_seas:\n",
    "            if not clean_player.Height.empty: \n",
    "                x = clean_player.Height\n",
    "    \n",
    "    heights.append(x)    \n",
    "            \n",
    "hof['Height']=heights\n",
    "\n",
    "\n",
    "weights=[]\n",
    "\n",
    "for index, player in player_names_and_seasons.iterrows():\n",
    "    x=clean.Wt.mean()\n",
    "    clean_players=clean[clean.player==player.player]\n",
    "    for index2, clean_player in clean_players.iterrows():\n",
    "        if clean_player.From == player.first_seas and clean_player.To <= player.last_seas:\n",
    "            if not clean_player.Wt.empty: \n",
    "                x = clean_player.Wt\n",
    "    \n",
    "    weights.append(x)    \n",
    "            \n",
    "hof['Weight']=heights\n"
   ],
   "metadata": {
    "collapsed": false,
    "ExecuteTime": {
     "end_time": "2023-12-10T19:46:31.907531400Z",
     "start_time": "2023-12-10T19:46:31.859284200Z"
    }
   },
   "id": "2d46f175f9e7b03e"
  },
  {
   "cell_type": "code",
   "execution_count": 15,
   "outputs": [
    {
     "data": {
      "text/plain": "player_id                               0\nplayer                                  0\nhof                                     0\nfirst_seas                              0\nlast_seas                               0\nLeaderboard points                      0\nChampionships                           0\nAverage of 5 highest BPM seasons     1199\nAverage of 5 highest VORP seasons    1199\ndtype: int64"
     },
     "execution_count": 15,
     "metadata": {},
     "output_type": "execute_result"
    }
   ],
   "source": [
    "hof.isna().sum()"
   ],
   "metadata": {
    "collapsed": false,
    "ExecuteTime": {
     "end_time": "2023-12-10T19:46:53.298939600Z",
     "start_time": "2023-12-10T19:46:53.246104700Z"
    }
   },
   "id": "12ffbfbf76d124b3"
  },
  {
   "cell_type": "code",
   "execution_count": 127,
   "outputs": [],
   "source": [
    "hof['hof'] = hof['hof'].astype(int)"
   ],
   "metadata": {
    "collapsed": false,
    "ExecuteTime": {
     "end_time": "2023-12-10T20:43:49.034499100Z",
     "start_time": "2023-12-10T20:43:49.023534600Z"
    }
   },
   "id": "b399d9cd326c312d"
  },
  {
   "cell_type": "code",
   "execution_count": 128,
   "outputs": [],
   "source": [
    "hof['Average of 5 highest WS seasons'] = hof['Average of 5 highest WS seasons'].fillna(0)\n",
    "hof['Average of 5 highest BPM seasons'] = hof['Average of 5 highest BPM seasons'].fillna(0)\n",
    "hof['Average of 5 highest VORP seasons'] = hof['Average of 5 highest VORP seasons'].fillna(0)\n"
   ],
   "metadata": {
    "collapsed": false,
    "ExecuteTime": {
     "end_time": "2023-12-10T20:43:49.054437600Z",
     "start_time": "2023-12-10T20:43:49.037488500Z"
    }
   },
   "id": "9fb2ae2d38cffb1a"
  },
  {
   "cell_type": "code",
   "execution_count": 129,
   "outputs": [
    {
     "data": {
      "text/plain": "      player_id         player  hof  first_seas  last_seas  \\\n2263       2264  Patrick Ewing    1        1986       2002   \n3966       3967  Patrick Ewing    0        2011       2011   \n\n      All-Star appearances  Championships  Average of 5 highest WS seasons  \\\n2263                    11              0                            12.22   \n3966                     0              0                            -0.10   \n\n      Average of 5 highest BPM seasons  Average of 5 highest VORP seasons  \n2263                              4.86                               5.34  \n3966                             -9.10                               0.00  ",
      "text/html": "<div>\n<style scoped>\n    .dataframe tbody tr th:only-of-type {\n        vertical-align: middle;\n    }\n\n    .dataframe tbody tr th {\n        vertical-align: top;\n    }\n\n    .dataframe thead th {\n        text-align: right;\n    }\n</style>\n<table border=\"1\" class=\"dataframe\">\n  <thead>\n    <tr style=\"text-align: right;\">\n      <th></th>\n      <th>player_id</th>\n      <th>player</th>\n      <th>hof</th>\n      <th>first_seas</th>\n      <th>last_seas</th>\n      <th>All-Star appearances</th>\n      <th>Championships</th>\n      <th>Average of 5 highest WS seasons</th>\n      <th>Average of 5 highest BPM seasons</th>\n      <th>Average of 5 highest VORP seasons</th>\n    </tr>\n  </thead>\n  <tbody>\n    <tr>\n      <th>2263</th>\n      <td>2264</td>\n      <td>Patrick Ewing</td>\n      <td>1</td>\n      <td>1986</td>\n      <td>2002</td>\n      <td>11</td>\n      <td>0</td>\n      <td>12.22</td>\n      <td>4.86</td>\n      <td>5.34</td>\n    </tr>\n    <tr>\n      <th>3966</th>\n      <td>3967</td>\n      <td>Patrick Ewing</td>\n      <td>0</td>\n      <td>2011</td>\n      <td>2011</td>\n      <td>0</td>\n      <td>0</td>\n      <td>-0.10</td>\n      <td>-9.10</td>\n      <td>0.00</td>\n    </tr>\n  </tbody>\n</table>\n</div>"
     },
     "execution_count": 129,
     "metadata": {},
     "output_type": "execute_result"
    }
   ],
   "source": [
    "hof[hof['player']=='Patrick Ewing']"
   ],
   "metadata": {
    "collapsed": false,
    "ExecuteTime": {
     "end_time": "2023-12-10T20:43:49.065909900Z",
     "start_time": "2023-12-10T20:43:49.051444100Z"
    }
   },
   "id": "cb31d09bd1bad732"
  },
  {
   "cell_type": "code",
   "execution_count": null,
   "outputs": [],
   "source": [
    "hof.drop(3966,inplace=True)"
   ],
   "metadata": {
    "collapsed": false
   },
   "id": "9beb9d82322d7734"
  },
  {
   "cell_type": "code",
   "execution_count": 130,
   "outputs": [
    {
     "name": "stderr",
     "output_type": "stream",
     "text": [
      "C:\\Users\\arxer\\anaconda3\\lib\\site-packages\\sklearn\\neighbors\\_classification.py:228: FutureWarning: Unlike other reduction functions (e.g. `skew`, `kurtosis`), the default behavior of `mode` typically preserves the axis it acts along. In SciPy 1.11.0, this behavior will change: the default value of `keepdims` will become False, the `axis` over which the statistic is taken will be eliminated, and the value None will no longer be accepted. Set `keepdims` to True or False to avoid this warning.\n",
      "  mode, _ = stats.mode(_y[neigh_ind, k], axis=1)\n"
     ]
    },
    {
     "name": "stdout",
     "output_type": "stream",
     "text": [
      "Logistic Regression\n",
      "[[915   0]\n",
      " [ 12  20]]\n",
      "              precision    recall  f1-score   support\n",
      "\n",
      "           0       0.99      1.00      0.99       915\n",
      "           1       1.00      0.62      0.77        32\n",
      "\n",
      "    accuracy                           0.99       947\n",
      "   macro avg       0.99      0.81      0.88       947\n",
      "weighted avg       0.99      0.99      0.99       947\n",
      "\n",
      "Random Forest\n",
      "[[912   3]\n",
      " [ 11  21]]\n",
      "              precision    recall  f1-score   support\n",
      "\n",
      "           0       0.99      1.00      0.99       915\n",
      "           1       0.88      0.66      0.75        32\n",
      "\n",
      "    accuracy                           0.99       947\n",
      "   macro avg       0.93      0.83      0.87       947\n",
      "weighted avg       0.98      0.99      0.98       947\n",
      "\n",
      "K Nearest Neighbor\n",
      "[[902  13]\n",
      " [ 12  20]]\n",
      "              precision    recall  f1-score   support\n",
      "\n",
      "           0       0.99      0.99      0.99       915\n",
      "           1       0.61      0.62      0.62        32\n",
      "\n",
      "    accuracy                           0.97       947\n",
      "   macro avg       0.80      0.81      0.80       947\n",
      "weighted avg       0.97      0.97      0.97       947\n"
     ]
    }
   ],
   "source": [
    "from sklearn.preprocessing import StandardScaler\n",
    "\n",
    "young=hof[(hof['last_seas']>2014) & (hof['hof']==0)]\n",
    "old=hof[hof['last_seas']<=2014]\n",
    "X_a=old.drop(['first_seas','last_seas','hof','player','player_id'],axis=1)\n",
    "y=old['hof']\n",
    "X= StandardScaler().fit_transform(X_a)\n",
    "X = pd.DataFrame(X, columns=X_a.columns, index=X_a.index)\n",
    "X_pred_a=young.drop(['first_seas','last_seas','hof','player','player_id'],axis=1)\n",
    "X_pred =StandardScaler().fit_transform(X_pred_a)\n",
    "X_pred = pd.DataFrame(X_pred, columns=X_pred_a.columns, index=X_pred_a.index)\n",
    "y_pred=young['hof']\n",
    "X_train, X_test, y_train, y_test = train_test_split(X, y, test_size=0.25, random_state=42)\n",
    "\n",
    "knn = KNeighborsClassifier(n_neighbors=1)\n",
    "knn.fit(X_train,y_train)\n",
    "pred_knn = knn.predict(X_test)\n",
    "knn_prob=knn.predict_proba(X_pred)[:,-1]\n",
    "\n",
    "logmodel=LogisticRegression(max_iter=10000)\n",
    "logmodel.fit(X_train,y_train)\n",
    "pred_log=logmodel.predict(X_test)\n",
    "log_prob=logmodel.predict_proba(X_pred)[:,-1]\n",
    "\n",
    "rfc=RandomForestClassifier(n_estimators=200)\n",
    "rfc.fit(X_train,y_train)\n",
    "pred_rfc=rfc.predict(X_test)\n",
    "rfc_prob=rfc.predict_proba(X_pred)[:,-1]\n",
    "\n",
    "\n",
    "print('Logistic Regression')\n",
    "print(confusion_matrix(y_test,pred_log))\n",
    "print(classification_report(y_test,pred_log))\n",
    "\n",
    "print('Random Forest')\n",
    "print(confusion_matrix(y_test,pred_rfc))\n",
    "print(classification_report(y_test,pred_rfc))\n",
    "\n",
    "\n",
    "print('K Nearest Neighbor')\n",
    "print(confusion_matrix(y_test,pred_knn))\n",
    "print(classification_report(y_test,pred_knn))\n",
    "\n",
    "\n"
   ],
   "metadata": {
    "collapsed": false,
    "ExecuteTime": {
     "end_time": "2023-12-10T20:43:49.903771Z",
     "start_time": "2023-12-10T20:43:49.065909900Z"
    }
   },
   "id": "ea5c9498528c953a"
  },
  {
   "cell_type": "code",
   "execution_count": 131,
   "outputs": [],
   "source": [
    "res=pd.concat([X_pred,y_pred],axis=1)\n",
    "\n",
    "#res['log_pred']=pred_log\n",
    "res['log_prob']=log_prob\n",
    "\n",
    "#res['rfc_pred']=pred_rfc\n",
    "res['rfc_prob']=rfc_prob\n",
    "\n",
    "#res['knn_pred']=pred_knn\n",
    "res['knn_prob']=knn_prob\n",
    "\n",
    "res_final=pd.concat([res,hof['player']],axis=1).dropna()"
   ],
   "metadata": {
    "collapsed": false,
    "ExecuteTime": {
     "end_time": "2023-12-10T20:43:49.921957500Z",
     "start_time": "2023-12-10T20:43:49.895540600Z"
    }
   },
   "id": "5f38b46be25a158"
  },
  {
   "cell_type": "code",
   "execution_count": 132,
   "outputs": [
    {
     "data": {
      "text/plain": "              player  log_prob\n3462    LeBron James  1.000000\n3769    Kevin Durant  0.999993\n3902   Stephen Curry  0.999940\n3584      Chris Paul  0.999864\n3879    James Harden  0.998729\n...              ...       ...\n4608  Donte Grantham  0.000391\n5050   Jacob Gilyard  0.000375\n4895     Will Magnay  0.000356\n4679     Tyler Davis  0.000330\n5135     Jordan Ford  0.000308\n\n[1364 rows x 2 columns]",
      "text/html": "<div>\n<style scoped>\n    .dataframe tbody tr th:only-of-type {\n        vertical-align: middle;\n    }\n\n    .dataframe tbody tr th {\n        vertical-align: top;\n    }\n\n    .dataframe thead th {\n        text-align: right;\n    }\n</style>\n<table border=\"1\" class=\"dataframe\">\n  <thead>\n    <tr style=\"text-align: right;\">\n      <th></th>\n      <th>player</th>\n      <th>log_prob</th>\n    </tr>\n  </thead>\n  <tbody>\n    <tr>\n      <th>3462</th>\n      <td>LeBron James</td>\n      <td>1.000000</td>\n    </tr>\n    <tr>\n      <th>3769</th>\n      <td>Kevin Durant</td>\n      <td>0.999993</td>\n    </tr>\n    <tr>\n      <th>3902</th>\n      <td>Stephen Curry</td>\n      <td>0.999940</td>\n    </tr>\n    <tr>\n      <th>3584</th>\n      <td>Chris Paul</td>\n      <td>0.999864</td>\n    </tr>\n    <tr>\n      <th>3879</th>\n      <td>James Harden</td>\n      <td>0.998729</td>\n    </tr>\n    <tr>\n      <th>...</th>\n      <td>...</td>\n      <td>...</td>\n    </tr>\n    <tr>\n      <th>4608</th>\n      <td>Donte Grantham</td>\n      <td>0.000391</td>\n    </tr>\n    <tr>\n      <th>5050</th>\n      <td>Jacob Gilyard</td>\n      <td>0.000375</td>\n    </tr>\n    <tr>\n      <th>4895</th>\n      <td>Will Magnay</td>\n      <td>0.000356</td>\n    </tr>\n    <tr>\n      <th>4679</th>\n      <td>Tyler Davis</td>\n      <td>0.000330</td>\n    </tr>\n    <tr>\n      <th>5135</th>\n      <td>Jordan Ford</td>\n      <td>0.000308</td>\n    </tr>\n  </tbody>\n</table>\n<p>1364 rows × 2 columns</p>\n</div>"
     },
     "execution_count": 132,
     "metadata": {},
     "output_type": "execute_result"
    }
   ],
   "source": [
    "final = res_final[['player','log_prob']]\n",
    "final.sort_values(by=['log_prob'],ascending=False)"
   ],
   "metadata": {
    "collapsed": false,
    "ExecuteTime": {
     "end_time": "2023-12-10T20:43:49.922978700Z",
     "start_time": "2023-12-10T20:43:49.909924600Z"
    }
   },
   "id": "64544fa144b44ceb"
  },
  {
   "cell_type": "code",
   "execution_count": 133,
   "outputs": [
    {
     "data": {
      "text/plain": "   All-Star appearances  Championships  Average of 5 highest WS seasons  \\\n0              1.239128       0.468021                         0.679918   \n\n   Average of 5 highest BPM seasons  Average of 5 highest VORP seasons  \n0                          0.366232                          -0.232961  ",
      "text/html": "<div>\n<style scoped>\n    .dataframe tbody tr th:only-of-type {\n        vertical-align: middle;\n    }\n\n    .dataframe tbody tr th {\n        vertical-align: top;\n    }\n\n    .dataframe thead th {\n        text-align: right;\n    }\n</style>\n<table border=\"1\" class=\"dataframe\">\n  <thead>\n    <tr style=\"text-align: right;\">\n      <th></th>\n      <th>All-Star appearances</th>\n      <th>Championships</th>\n      <th>Average of 5 highest WS seasons</th>\n      <th>Average of 5 highest BPM seasons</th>\n      <th>Average of 5 highest VORP seasons</th>\n    </tr>\n  </thead>\n  <tbody>\n    <tr>\n      <th>0</th>\n      <td>1.239128</td>\n      <td>0.468021</td>\n      <td>0.679918</td>\n      <td>0.366232</td>\n      <td>-0.232961</td>\n    </tr>\n  </tbody>\n</table>\n</div>"
     },
     "execution_count": 133,
     "metadata": {},
     "output_type": "execute_result"
    }
   ],
   "source": [
    "pd.DataFrame(logmodel.coef_, columns=X_train.columns)"
   ],
   "metadata": {
    "collapsed": false,
    "ExecuteTime": {
     "end_time": "2023-12-10T20:43:52.105822100Z",
     "start_time": "2023-12-10T20:43:52.069929200Z"
    }
   },
   "id": "f81a354beb0f6ccf"
  },
  {
   "cell_type": "code",
   "execution_count": 113,
   "outputs": [
    {
     "data": {
      "text/plain": "0.9813248766737139"
     },
     "execution_count": 113,
     "metadata": {},
     "output_type": "execute_result"
    }
   ],
   "source": [
    "logmodel.score(X_train,y_train)"
   ],
   "metadata": {
    "collapsed": false,
    "ExecuteTime": {
     "end_time": "2023-12-10T20:42:25.827116300Z",
     "start_time": "2023-12-10T20:42:25.808832300Z"
    }
   },
   "id": "d0b92f321e234a73"
  },
  {
   "cell_type": "code",
   "execution_count": 134,
   "outputs": [
    {
     "data": {
      "text/plain": "<Figure size 1000x500 with 1 Axes>",
      "image/png": "[encoded data removed]"
     },
     "metadata": {},
     "output_type": "display_data"
    }
   ],
   "source": [
    "from sklearn.metrics import mean_squared_error\n",
    "import matplotlib.pyplot as plt \n",
    " \n",
    "  \n",
    "# creating the dataset\n",
    "data = {'Logistic Regression':mean_squared_error(pred_log, y_test), 'Random Forest':mean_squared_error(pred_rfc, y_test), \n",
    "        'KNN':mean_squared_error(pred_knn, y_test)}\n",
    "courses = list(data.keys())\n",
    "values = list(data.values())\n",
    "  \n",
    "fig = plt.figure(figsize = (10, 5))\n",
    " \n",
    "# creating the bar plot\n",
    "plt.bar(courses, values, color ='maroon', \n",
    "        width = 0.6)\n",
    "plt.xticks(fontsize= 20)\n",
    "plt.yticks(fontsize= 20)\n",
    "plt.xlabel(\"Model\", fontsize= 20)\n",
    "plt.ylabel(\"MSE\", fontsize= 20)\n",
    "plt.title(\"MSE based on the tested model\", fontsize=20)\n",
    "plt.show()"
   ],
   "metadata": {
    "collapsed": false,
    "ExecuteTime": {
     "end_time": "2023-12-10T20:44:25.484565Z",
     "start_time": "2023-12-10T20:44:25.336916100Z"
    }
   },
   "id": "f71507a5363f8f7a"
  },
  {
   "cell_type": "code",
   "execution_count": null,
   "outputs": [],
   "source": [],
   "metadata": {
    "collapsed": false
   },
   "id": "e487398e395d23df"
  }
 ],
 "metadata": {
  "kernelspec": {
   "display_name": "Python 3 (ipykernel)",
   "language": "python",
   "name": "python3"
  },
  "language_info": {
   "codemirror_mode": {
    "name": "ipython",
    "version": 3
   },
   "file_extension": ".py",
   "mimetype": "text/x-python",
   "name": "python",
   "nbconvert_exporter": "python",
   "pygments_lexer": "ipython3",
   "version": "3.11.4"
  }
 },
 "nbformat": 4,
 "nbformat_minor": 5
}
