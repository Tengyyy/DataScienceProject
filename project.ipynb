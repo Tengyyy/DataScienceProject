{
 "cells": [
  {
   "cell_type": "markdown",
   "source": [
    "Import the necessary libraries"
   ],
   "metadata": {
    "collapsed": false
   },
   "id": "7b9f67e4113a30ae"
  },
  {
   "cell_type": "code",
   "execution_count": 1,
   "outputs": [],
   "source": [
    "import numpy as np\n",
    "import pandas as pd\n",
    "from sklearn.model_selection import train_test_split\n",
    "from sklearn.linear_model import LogisticRegression\n",
    "from sklearn.ensemble import RandomForestClassifier\n",
    "from sklearn.neighbors import KNeighborsClassifier\n",
    "from sklearn.preprocessing import StandardScaler\n",
    "from sklearn.metrics import mean_squared_error\n",
    "import matplotlib.pyplot as plt "
   ],
   "metadata": {
    "collapsed": false,
    "ExecuteTime": {
     "end_time": "2023-12-11T02:59:23.281481800Z",
     "start_time": "2023-12-11T02:59:20.241863300Z"
    }
   },
   "id": "initial_id"
  },
  {
   "cell_type": "markdown",
   "source": [
    "Read in the necessary data"
   ],
   "metadata": {
    "collapsed": false
   },
   "id": "8a11a3221fd86b75"
  },
  {
   "cell_type": "code",
   "execution_count": 2,
   "id": "d1aefb35ad980444",
   "metadata": {
    "ExecuteTime": {
     "end_time": "2023-12-11T02:59:23.546330200Z",
     "start_time": "2023-12-11T02:59:23.284471200Z"
    }
   },
   "outputs": [],
   "source": [
    "player_totals=pd.read_csv('./data/Player Totals.csv')\n",
    "player_career_info=pd.read_csv('./data/Player Career Info.csv')\n",
    "advanced=pd.read_csv('./data/Advanced.csv')\n",
    "clean=pd.read_csv('./data/NBA_players_clean.csv')\n",
    "\n",
    "hof=player_career_info.drop(['birth_year','num_seasons'],axis=1)\n",
    "player_names_and_seasons=hof[['player','first_seas','last_seas','player_id']]"
   ]
  },
  {
   "cell_type": "markdown",
   "source": [
    "Make a dictionary containing the top 10 list for every season for every major category"
   ],
   "metadata": {
    "collapsed": false
   },
   "id": "f81f740f4e8f754e"
  },
  {
   "cell_type": "code",
   "execution_count": 3,
   "id": "219755931abc6fff",
   "metadata": {
    "ExecuteTime": {
     "end_time": "2023-12-11T02:59:23.915450300Z",
     "start_time": "2023-12-11T02:59:23.552309700Z"
    }
   },
   "outputs": [],
   "source": [
    "seasons = np.flip(player_totals.season.unique())\n",
    "seasons_leaderboards = {}\n",
    "for season in seasons:\n",
    "    season_top10s = {'pts': player_totals[player_totals['season'] == season].sort_values(by=['pts']).tail(10),\n",
    "                     'reb': player_totals[player_totals['season'] == season].sort_values(by=['trb']).tail(10),\n",
    "                     'ast': player_totals[player_totals['season'] == season].sort_values(by=['ast']).tail(10),\n",
    "                     'min': player_totals[player_totals['season'] == season].sort_values(by=['mp']).tail(10),\n",
    "                     'stl': player_totals[player_totals['season'] == season].sort_values(by=['stl']).tail(10),\n",
    "                     'blk': player_totals[player_totals['season'] == season].sort_values(by=['blk']).tail(10)}\n",
    "    seasons_leaderboards[season] = season_top10s"
   ]
  },
  {
   "cell_type": "markdown",
   "source": [
    "Calculate leaderboard points giving a player 5 points for making the top 10 and up to 2 points extra depending on the spot in the top 10"
   ],
   "metadata": {
    "collapsed": false
   },
   "id": "e7ebedcf37e2770e"
  },
  {
   "cell_type": "code",
   "execution_count": 4,
   "id": "5d6bebe4191fc8f9",
   "metadata": {
    "ExecuteTime": {
     "end_time": "2023-12-11T03:04:10.400587Z",
     "start_time": "2023-12-11T02:59:23.905687100Z"
    }
   },
   "outputs": [],
   "source": [
    "leaderboard_points=[]\n",
    "for i in range(len(player_names_and_seasons)):\n",
    "    x=0\n",
    "    for season in range(player_names_and_seasons.iloc[i].first_seas,player_names_and_seasons.iloc[i].last_seas+1):\n",
    "        top10_pts = seasons_leaderboards[season]['pts']\n",
    "        top10_reb = seasons_leaderboards[season]['reb']\n",
    "        top10_ast = seasons_leaderboards[season]['ast']\n",
    "        top10_min = seasons_leaderboards[season]['min']\n",
    "        top10_stl = seasons_leaderboards[season]['stl']\n",
    "        top10_blk = seasons_leaderboards[season]['blk']\n",
    "        for j in range(9,-1,-1):\n",
    "            if top10_pts.iloc[j].player_id == player_names_and_seasons.iloc[i].player_id:\n",
    "                x+=(5 + j/2)\n",
    "            if top10_reb.iloc[j].player_id == player_names_and_seasons.iloc[i].player_id:\n",
    "                x+=(5 + j/2)\n",
    "            if top10_ast.iloc[j].player_id == player_names_and_seasons.iloc[i].player_id:\n",
    "                x+=(5 + j/2)\n",
    "            if top10_min.iloc[j].player_id == player_names_and_seasons.iloc[i].player_id:\n",
    "                x+=(5 + j/2)\n",
    "            if top10_stl.iloc[j].player_id == player_names_and_seasons.iloc[i].player_id:\n",
    "                x+=(5 + j/2)\n",
    "            if top10_blk.iloc[j].player_id == player_names_and_seasons.iloc[i].player_id:\n",
    "                x+=(5 + j/2)\n",
    "    leaderboard_points.append(x)\n",
    "    \n",
    "hof['Leaderboard points']=leaderboard_points        "
   ]
  },
  {
   "cell_type": "markdown",
   "source": [
    "Cleaning the \"clean\" database by removing asterisks from player names containing them"
   ],
   "metadata": {
    "collapsed": false
   },
   "id": "d5e02586fb8d96a0"
  },
  {
   "cell_type": "code",
   "execution_count": 5,
   "id": "e00ed6bd99b4efce",
   "metadata": {
    "ExecuteTime": {
     "end_time": "2023-12-11T03:04:10.452413300Z",
     "start_time": "2023-12-11T03:04:10.415544900Z"
    }
   },
   "outputs": [
    {
     "data": {
      "text/plain": "0             Alaa Abdelnaby\n1            Zaid Abdul-Aziz\n2       Kareem Abdul-Jabbar*\n3         Mahmoud Abdul-Rauf\n4          Tariq Abdul-Wahad\n                ...         \n5018              Ante Žižić\n5019                Jim Zoet\n5020               Bill Zopf\n5021             Ivica Zubac\n5022              Matt Zunic\nName: Player, Length: 5023, dtype: object"
     },
     "execution_count": 5,
     "metadata": {},
     "output_type": "execute_result"
    }
   ],
   "source": [
    "clean['Player']"
   ]
  },
  {
   "cell_type": "code",
   "execution_count": 6,
   "id": "ce72208ed952b429",
   "metadata": {
    "ExecuteTime": {
     "end_time": "2023-12-11T03:04:10.452413300Z",
     "start_time": "2023-12-11T03:04:10.435470100Z"
    }
   },
   "outputs": [],
   "source": [
    "def cut_string(name):\n",
    "    if '*' in name:\n",
    "        return name.split('*')[0]\n",
    "    return name\n",
    "clean['player']=clean['Player'].apply(lambda x:cut_string(x))"
   ]
  },
  {
   "cell_type": "code",
   "execution_count": 7,
   "id": "516af05504656f43",
   "metadata": {
    "ExecuteTime": {
     "end_time": "2023-12-11T03:04:10.474097Z",
     "start_time": "2023-12-11T03:04:10.450420400Z"
    }
   },
   "outputs": [
    {
     "data": {
      "text/plain": "0            Alaa Abdelnaby\n1           Zaid Abdul-Aziz\n2       Kareem Abdul-Jabbar\n3        Mahmoud Abdul-Rauf\n4         Tariq Abdul-Wahad\n               ...         \n5018             Ante Žižić\n5019               Jim Zoet\n5020              Bill Zopf\n5021            Ivica Zubac\n5022             Matt Zunic\nName: player, Length: 5023, dtype: object"
     },
     "execution_count": 7,
     "metadata": {},
     "output_type": "execute_result"
    }
   ],
   "source": [
    "clean['player']"
   ]
  },
  {
   "cell_type": "markdown",
   "source": [
    "Adding all the mostly known career stats the dataframe \"hof\" which we are going to fit the model on"
   ],
   "metadata": {
    "collapsed": false
   },
   "id": "774ab6283d24c05a"
  },
  {
   "cell_type": "code",
   "execution_count": 8,
   "outputs": [],
   "source": [
    "career_stats = {\n",
    "    'Height': 'height',\n",
    "    'Wt': 'weight',\n",
    "    'G': 'games',\n",
    "    'PTS': 'points',\n",
    "    'TRB': 'total rebounds',\n",
    "    'AST': 'total assists',\n",
    "    'FG%': 'field goal percentage',\n",
    "    'FG3%': '3-point field goal percentage',\n",
    "    'FT%': 'free throw percentage',\n",
    "    'eFG%': 'Effective Field Goal Percentage',\n",
    "    'All Star': 'All-Star selections',\n",
    "    'All NBA': 'All-NBA selections',\n",
    "    'All ABA': 'all ABA selections',\n",
    "    'All Rookie': 'all rookie team selections',\n",
    "    'All Defensive': 'all defensive team selections',\n",
    "    'Most Improved': 'most improved player of the year wins',\n",
    "    'Sixth Man': 'sixth man of the year wins',\n",
    "    'DPOY': 'defensive player of the year wins',\n",
    "    'ROY': 'rookie of the year wins',\n",
    "    'AS MVP': 'all star game MVP wins',\n",
    "    'CF MVP': 'conference finals MVP wins',\n",
    "    'Finals MVP': 'finals MVP wins',\n",
    "    'MVP': 'most valuable player of the year wins',\n",
    "    'Championships': 'championships'\n",
    "}\n",
    "\n",
    "for career_stat in career_stats:\n",
    "    counts = []\n",
    "\n",
    "    for index, player in player_names_and_seasons.iterrows():\n",
    "        count = 0\n",
    "    \n",
    "        clean_players=clean[clean.player==player.player]\n",
    "\n",
    "        for index2, clean_player in clean_players.iterrows():\n",
    "            if clean_player.From == player.first_seas and clean_player.To <= player.last_seas:\n",
    "                count = clean_player[career_stat]\n",
    "            \n",
    "        counts.append(count)\n",
    "\n",
    "    colName = career_stats[career_stat]\n",
    "    hof[colName] = counts"
   ],
   "metadata": {
    "collapsed": false,
    "ExecuteTime": {
     "end_time": "2023-12-11T03:05:32.031248800Z",
     "start_time": "2023-12-11T03:04:10.470604500Z"
    }
   },
   "id": "ede65fdc2198f95b"
  },
  {
   "cell_type": "markdown",
   "source": [
    "Adding also the lesser known but still very important advanced metric stats provided by the NBA"
   ],
   "metadata": {
    "collapsed": false
   },
   "id": "6b006510b3f7de76"
  },
  {
   "cell_type": "code",
   "execution_count": 9,
   "id": "226c22f6",
   "metadata": {
    "ExecuteTime": {
     "end_time": "2023-12-11T03:07:10.693354300Z",
     "start_time": "2023-12-11T03:05:32.032245400Z"
    }
   },
   "outputs": [],
   "source": [
    "advanced_stat_cols = {\n",
    "    'vorp': 'value over replacement player',\n",
    "    'bpm': 'box plus minus',\n",
    "    'dbpm': 'defensive box plus minus',\n",
    "    'obpm': 'offensive box plus minus',\n",
    "    'ws_48': 'win shares per 48 minutes',\n",
    "    'ws': 'win shares',\n",
    "    'dws': 'defensive win shares',\n",
    "    'ows': 'offensive win shares',\n",
    "    'usg_percent': 'usage percentage',\n",
    "    'tov_percent': 'turnover percentage',\n",
    "    'blk_percent': 'block percentage',\n",
    "    'stl_percent': 'steal percentage',\n",
    "    'ast_percent': 'assist percentage',\n",
    "    'trb_percent': 'total rebounds percentage',\n",
    "    'drb_percent': 'defensive rebounds percentage',\n",
    "    'orb_percent': 'offensive rebounds percentage',\n",
    "    'f_tr': 'free throw rate',\n",
    "    'x3p_ar': 'three point attempt rate',\n",
    "    'ts_percent': 'true shooting percentage',\n",
    "    'per': 'player efficiency rating'\n",
    "}\n",
    "\n",
    "for stat in advanced_stat_cols:\n",
    "    best5Avgs = []\n",
    "\n",
    "    for player in player_names_and_seasons.player_id:\n",
    "        best5Avgs.append(advanced[advanced['player_id']==player].nlargest(5, stat)[stat].mean())\n",
    "\n",
    "    columnName = 'Average of 5 highest {col} seasons'.format(col = advanced_stat_cols[stat])\n",
    "    hof[columnName]=best5Avgs\n",
    "\n",
    "    hof[columnName] = hof[columnName].fillna(hof[columnName].mean())\n",
    "\n"
   ]
  },
  {
   "cell_type": "markdown",
   "source": [
    "Converting True and False values to 1 and 0 respectively"
   ],
   "metadata": {
    "collapsed": false
   },
   "id": "a23645c6e06f07f8"
  },
  {
   "cell_type": "code",
   "execution_count": 10,
   "id": "b399d9cd326c312d",
   "metadata": {
    "ExecuteTime": {
     "end_time": "2023-12-11T03:07:10.708312100Z",
     "start_time": "2023-12-11T03:07:10.693354300Z"
    }
   },
   "outputs": [],
   "source": [
    "hof['hof'] = hof['hof'].astype(int)"
   ]
  },
  {
   "cell_type": "markdown",
   "source": [
    "Selecting the dataset containing old players which we are going to split into training and test sets. Also selecting the current players which we are going to perform our prediction on"
   ],
   "metadata": {
    "collapsed": false
   },
   "id": "e5b72f4b3eb9efde"
  },
  {
   "cell_type": "code",
   "execution_count": 11,
   "id": "dcd36d783d0773ec",
   "metadata": {
    "ExecuteTime": {
     "end_time": "2023-12-11T03:07:10.727242900Z",
     "start_time": "2023-12-11T03:07:10.710297200Z"
    }
   },
   "outputs": [],
   "source": [
    "young=hof[(hof['last_seas']>=2023)]\n",
    "old=hof[hof['last_seas']<=2009]"
   ]
  },
  {
   "cell_type": "markdown",
   "source": [
    "Using the standard scaler we are going to make sure that the units are in the same scale for all features. That allows us to later decide which features are most important"
   ],
   "metadata": {
    "collapsed": false
   },
   "id": "43fb7479c94fb150"
  },
  {
   "cell_type": "code",
   "execution_count": 12,
   "outputs": [],
   "source": [
    "X=old.drop(['first_seas','last_seas','hof','player','player_id'],axis=1)\n",
    "y=old['hof']\n",
    "X_scaled= StandardScaler().fit_transform(X)\n",
    "X = pd.DataFrame(X_scaled, columns=X.columns, index=X.index)\n",
    "\n",
    "X_pred=young.drop(['first_seas','last_seas','hof','player','player_id'],axis=1)\n",
    "X_pred_scaled =StandardScaler().fit_transform(X_pred)\n",
    "X_pred = pd.DataFrame(X_pred_scaled, columns=X_pred.columns, index=X_pred.index)\n",
    "y_pred=young['hof']"
   ],
   "metadata": {
    "collapsed": false,
    "ExecuteTime": {
     "end_time": "2023-12-11T03:07:10.761638200Z",
     "start_time": "2023-12-11T03:07:10.727242900Z"
    }
   },
   "id": "e32c3c1e1c58f8e5"
  },
  {
   "cell_type": "markdown",
   "source": [
    "Split the data to have training and test set. Then create 3 different models: Logistic Regression, Random Forest and KNN"
   ],
   "metadata": {
    "collapsed": false
   },
   "id": "ec2670c313e08b8d"
  },
  {
   "cell_type": "code",
   "execution_count": 13,
   "outputs": [
    {
     "name": "stderr",
     "output_type": "stream",
     "text": [
      "C:\\Users\\arxer\\anaconda3\\lib\\site-packages\\sklearn\\neighbors\\_classification.py:228: FutureWarning: Unlike other reduction functions (e.g. `skew`, `kurtosis`), the default behavior of `mode` typically preserves the axis it acts along. In SciPy 1.11.0, this behavior will change: the default value of `keepdims` will become False, the `axis` over which the statistic is taken will be eliminated, and the value None will no longer be accepted. Set `keepdims` to True or False to avoid this warning.\n",
      "  mode, _ = stats.mode(_y[neigh_ind, k], axis=1)\n"
     ]
    }
   ],
   "source": [
    "X_train, X_test, y_train, y_test = train_test_split(X, y, test_size=0.25, random_state=42)\n",
    "\n",
    "knn = KNeighborsClassifier(n_neighbors=1)\n",
    "knn.fit(X_train,y_train)\n",
    "pred_knn = knn.predict(X_test)\n",
    "knn_prob=knn.predict_proba(X_pred)[:,-1]\n",
    "\n",
    "logmodel=LogisticRegression(max_iter=10000)\n",
    "logmodel.fit(X_train,y_train)\n",
    "pred_log=logmodel.predict(X_test)\n",
    "log_prob=logmodel.predict_proba(X_pred)[:,-1]\n",
    "\n",
    "rfc=RandomForestClassifier(n_estimators=200)\n",
    "rfc.fit(X_train,y_train)\n",
    "pred_rfc=rfc.predict(X_test)\n",
    "rfc_prob=rfc.predict_proba(X_pred)[:,-1]"
   ],
   "metadata": {
    "collapsed": false,
    "ExecuteTime": {
     "end_time": "2023-12-11T03:07:11.717414800Z",
     "start_time": "2023-12-11T03:07:10.758651200Z"
    }
   },
   "id": "ea5c9498528c953a"
  },
  {
   "cell_type": "markdown",
   "source": [
    "Create a plot to illustrate the models' accuracy with MSE"
   ],
   "metadata": {
    "collapsed": false
   },
   "id": "38a117162373a97"
  },
  {
   "cell_type": "code",
   "execution_count": 14,
   "outputs": [
    {
     "data": {
      "text/plain": "<Figure size 1000x500 with 1 Axes>",
      "image/png": "[encoded data removed]"
     },
     "metadata": {},
     "output_type": "display_data"
    }
   ],
   "source": [
    "data = {'Logistic Regression':mean_squared_error(pred_log, y_test), 'Random Forest':mean_squared_error(pred_rfc, y_test), \n",
    "        'KNN':mean_squared_error(pred_knn, y_test)}\n",
    "models = list(data.keys())\n",
    "mses = list(data.values())\n",
    "  \n",
    "fig = plt.figure(figsize = (10, 5))\n",
    "plt.bar(models, mses, color ='maroon', width = 0.6)\n",
    "plt.xticks(fontsize= 20)\n",
    "plt.yticks(fontsize= 20)\n",
    "plt.xlabel(\"Model\", fontsize= 20)\n",
    "plt.ylabel(\"MSE\", fontsize= 20)\n",
    "plt.title(\"MSE based on the tested model\", fontsize=20)\n",
    "plt.show()"
   ],
   "metadata": {
    "collapsed": false,
    "ExecuteTime": {
     "end_time": "2023-12-11T03:07:11.850420900Z",
     "start_time": "2023-12-11T03:07:11.720404400Z"
    }
   },
   "id": "c75c3df7d0602273"
  },
  {
   "cell_type": "markdown",
   "source": [
    "Finding our most accurate model's MSE score"
   ],
   "metadata": {
    "collapsed": false
   },
   "id": "96a02a47254813a6"
  },
  {
   "cell_type": "code",
   "execution_count": 15,
   "outputs": [
    {
     "name": "stdout",
     "output_type": "stream",
     "text": [
      "0.018561484918793503\n"
     ]
    }
   ],
   "source": [
    "print(data['Logistic Regression'])"
   ],
   "metadata": {
    "collapsed": false,
    "ExecuteTime": {
     "end_time": "2023-12-11T03:07:11.859391Z",
     "start_time": "2023-12-11T03:07:11.845438400Z"
    }
   },
   "id": "71c80eebf44809c3"
  },
  {
   "cell_type": "markdown",
   "source": [
    "Set necessary data columns back together"
   ],
   "metadata": {
    "collapsed": false
   },
   "id": "788add04ac8452b9"
  },
  {
   "cell_type": "code",
   "execution_count": 16,
   "id": "5f38b46be25a158",
   "metadata": {
    "ExecuteTime": {
     "end_time": "2023-12-11T03:07:11.956385400Z",
     "start_time": "2023-12-11T03:07:11.862381300Z"
    }
   },
   "outputs": [],
   "source": [
    "res=pd.concat([X_pred,y_pred],axis=1)\n",
    "res['log_prob']=log_prob\n",
    "res['rfc_prob']=rfc_prob\n",
    "res['knn_prob']=knn_prob\n",
    "res_final=pd.concat([res,hof['player']],axis=1).dropna()"
   ]
  },
  {
   "cell_type": "markdown",
   "source": [
    "Find out most important features and select five of the most important ones"
   ],
   "metadata": {
    "collapsed": false
   },
   "id": "f743a57c3c1a720e"
  },
  {
   "cell_type": "code",
   "execution_count": 17,
   "outputs": [],
   "source": [
    "features_sorted = pd.DataFrame(logmodel.coef_, columns=X_train.columns).transpose().sort_values(by=[0], key=abs, ascending=False)"
   ],
   "metadata": {
    "collapsed": false,
    "ExecuteTime": {
     "end_time": "2023-12-11T03:07:11.956385400Z",
     "start_time": "2023-12-11T03:07:11.897152800Z"
    }
   },
   "id": "418ebbfbcb302f4e"
  },
  {
   "cell_type": "code",
   "execution_count": 18,
   "outputs": [
    {
     "name": "stderr",
     "output_type": "stream",
     "text": [
      "C:\\Users\\arxer\\AppData\\Local\\Temp\\ipykernel_30620\\3856026996.py:2: SettingWithCopyWarning: \n",
      "A value is trying to be set on a copy of a slice from a DataFrame\n",
      "\n",
      "See the caveats in the documentation: https://pandas.pydata.org/pandas-docs/stable/user_guide/indexing.html#returning-a-view-versus-a-copy\n",
      "  five_most_important_features.rename(columns={0: \"Coefficient\"},inplace=True)\n"
     ]
    },
    {
     "data": {
      "text/plain": "                                                    Coefficient\nFeature                                                        \nAll-Star selections                                    1.028245\nAverage of 5 highest offensive rebounds percent...    -0.832161\nEffective Field Goal Percentage                        0.673303\nAll-NBA selections                                     0.557544\nAverage of 5 highest win shares per 48 minutes ...     0.521342",
      "text/html": "<div>\n<style scoped>\n    .dataframe tbody tr th:only-of-type {\n        vertical-align: middle;\n    }\n\n    .dataframe tbody tr th {\n        vertical-align: top;\n    }\n\n    .dataframe thead th {\n        text-align: right;\n    }\n</style>\n<table border=\"1\" class=\"dataframe\">\n  <thead>\n    <tr style=\"text-align: right;\">\n      <th></th>\n      <th>Coefficient</th>\n    </tr>\n    <tr>\n      <th>Feature</th>\n      <th></th>\n    </tr>\n  </thead>\n  <tbody>\n    <tr>\n      <th>All-Star selections</th>\n      <td>1.028245</td>\n    </tr>\n    <tr>\n      <th>Average of 5 highest offensive rebounds percentage seasons</th>\n      <td>-0.832161</td>\n    </tr>\n    <tr>\n      <th>Effective Field Goal Percentage</th>\n      <td>0.673303</td>\n    </tr>\n    <tr>\n      <th>All-NBA selections</th>\n      <td>0.557544</td>\n    </tr>\n    <tr>\n      <th>Average of 5 highest win shares per 48 minutes seasons</th>\n      <td>0.521342</td>\n    </tr>\n  </tbody>\n</table>\n</div>"
     },
     "execution_count": 18,
     "metadata": {},
     "output_type": "execute_result"
    }
   ],
   "source": [
    "five_most_important_features = features_sorted.head(5)\n",
    "five_most_important_features.rename(columns={0: \"Coefficient\"},inplace=True)\n",
    "five_most_important_features.index.name = 'Feature'\n",
    "five_most_important_features.to_csv(\"features.csv\")\n",
    "five_most_important_features"
   ],
   "metadata": {
    "collapsed": false,
    "ExecuteTime": {
     "end_time": "2023-12-11T03:07:11.957381900Z",
     "start_time": "2023-12-11T03:07:11.913588300Z"
    }
   },
   "id": "34f446810a282773"
  },
  {
   "cell_type": "markdown",
   "source": [
    "Find out the likeliest players to make the Hall of Fame and select 10 of the likeliest"
   ],
   "metadata": {
    "collapsed": false
   },
   "id": "c71412e7e1a9c620"
  },
  {
   "cell_type": "code",
   "execution_count": 19,
   "outputs": [
    {
     "data": {
      "text/plain": "                     player      log_prob\n3462           LeBron James  1.000000e+00\n3769           Kevin Durant  9.999998e-01\n3902          Stephen Curry  9.999968e-01\n3584             Chris Paul  9.999017e-01\n4163  Giannis Antetokounmpo  9.992578e-01\n...                     ...           ...\n5156   Trayce Jackson-Davis  1.596070e-05\n5027       Alondes Williams  9.721238e-06\n5083         Moussa Diabaté  2.863964e-06\n5034           Chima Moneke  1.116114e-06\n5116       Brice Sensabaugh  2.145709e-07\n\n[594 rows x 2 columns]",
      "text/html": "<div>\n<style scoped>\n    .dataframe tbody tr th:only-of-type {\n        vertical-align: middle;\n    }\n\n    .dataframe tbody tr th {\n        vertical-align: top;\n    }\n\n    .dataframe thead th {\n        text-align: right;\n    }\n</style>\n<table border=\"1\" class=\"dataframe\">\n  <thead>\n    <tr style=\"text-align: right;\">\n      <th></th>\n      <th>player</th>\n      <th>log_prob</th>\n    </tr>\n  </thead>\n  <tbody>\n    <tr>\n      <th>3462</th>\n      <td>LeBron James</td>\n      <td>1.000000e+00</td>\n    </tr>\n    <tr>\n      <th>3769</th>\n      <td>Kevin Durant</td>\n      <td>9.999998e-01</td>\n    </tr>\n    <tr>\n      <th>3902</th>\n      <td>Stephen Curry</td>\n      <td>9.999968e-01</td>\n    </tr>\n    <tr>\n      <th>3584</th>\n      <td>Chris Paul</td>\n      <td>9.999017e-01</td>\n    </tr>\n    <tr>\n      <th>4163</th>\n      <td>Giannis Antetokounmpo</td>\n      <td>9.992578e-01</td>\n    </tr>\n    <tr>\n      <th>...</th>\n      <td>...</td>\n      <td>...</td>\n    </tr>\n    <tr>\n      <th>5156</th>\n      <td>Trayce Jackson-Davis</td>\n      <td>1.596070e-05</td>\n    </tr>\n    <tr>\n      <th>5027</th>\n      <td>Alondes Williams</td>\n      <td>9.721238e-06</td>\n    </tr>\n    <tr>\n      <th>5083</th>\n      <td>Moussa Diabaté</td>\n      <td>2.863964e-06</td>\n    </tr>\n    <tr>\n      <th>5034</th>\n      <td>Chima Moneke</td>\n      <td>1.116114e-06</td>\n    </tr>\n    <tr>\n      <th>5116</th>\n      <td>Brice Sensabaugh</td>\n      <td>2.145709e-07</td>\n    </tr>\n  </tbody>\n</table>\n<p>594 rows × 2 columns</p>\n</div>"
     },
     "execution_count": 19,
     "metadata": {},
     "output_type": "execute_result"
    }
   ],
   "source": [
    "final = res_final[['player','log_prob']]\n",
    "final.sort_values(by=['log_prob'],ascending=False)"
   ],
   "metadata": {
    "collapsed": false,
    "ExecuteTime": {
     "end_time": "2023-12-11T03:07:11.957381900Z",
     "start_time": "2023-12-11T03:07:11.941003600Z"
    }
   },
   "id": "a338e57ba894cde1"
  },
  {
   "cell_type": "code",
   "execution_count": 20,
   "id": "e487398e395d23df",
   "metadata": {
    "ExecuteTime": {
     "end_time": "2023-12-11T03:07:11.973583Z",
     "start_time": "2023-12-11T03:07:11.955388100Z"
    }
   },
   "outputs": [
    {
     "data": {
      "text/plain": "                       Probability\nName                              \nLeBron James              1.000000\nKevin Durant              1.000000\nStephen Curry             0.999997\nChris Paul                0.999902\nGiannis Antetokounmpo     0.999258\nRussell Westbrook         0.998588\nJames Harden              0.997840\nKawhi Leonard             0.997772\nAnthony Davis             0.968183\nKlay Thompson             0.950654",
      "text/html": "<div>\n<style scoped>\n    .dataframe tbody tr th:only-of-type {\n        vertical-align: middle;\n    }\n\n    .dataframe tbody tr th {\n        vertical-align: top;\n    }\n\n    .dataframe thead th {\n        text-align: right;\n    }\n</style>\n<table border=\"1\" class=\"dataframe\">\n  <thead>\n    <tr style=\"text-align: right;\">\n      <th></th>\n      <th>Probability</th>\n    </tr>\n    <tr>\n      <th>Name</th>\n      <th></th>\n    </tr>\n  </thead>\n  <tbody>\n    <tr>\n      <th>LeBron James</th>\n      <td>1.000000</td>\n    </tr>\n    <tr>\n      <th>Kevin Durant</th>\n      <td>1.000000</td>\n    </tr>\n    <tr>\n      <th>Stephen Curry</th>\n      <td>0.999997</td>\n    </tr>\n    <tr>\n      <th>Chris Paul</th>\n      <td>0.999902</td>\n    </tr>\n    <tr>\n      <th>Giannis Antetokounmpo</th>\n      <td>0.999258</td>\n    </tr>\n    <tr>\n      <th>Russell Westbrook</th>\n      <td>0.998588</td>\n    </tr>\n    <tr>\n      <th>James Harden</th>\n      <td>0.997840</td>\n    </tr>\n    <tr>\n      <th>Kawhi Leonard</th>\n      <td>0.997772</td>\n    </tr>\n    <tr>\n      <th>Anthony Davis</th>\n      <td>0.968183</td>\n    </tr>\n    <tr>\n      <th>Klay Thompson</th>\n      <td>0.950654</td>\n    </tr>\n  </tbody>\n</table>\n</div>"
     },
     "execution_count": 20,
     "metadata": {},
     "output_type": "execute_result"
    }
   ],
   "source": [
    "table = final.sort_values(by=['log_prob'],ascending=False).head(10)\n",
    "table.rename(columns={\"player\": \"Name\", \"log_prob\": \"Probability\"},inplace=True)\n",
    "table.to_csv(\"probs.csv\", index=False)\n",
    "table.set_index(keys=\"Name\")"
   ]
  }
 ],
 "metadata": {
  "kernelspec": {
   "display_name": "Python 3 (ipykernel)",
   "language": "python",
   "name": "python3"
  },
  "language_info": {
   "codemirror_mode": {
    "name": "ipython",
    "version": 3
   },
   "file_extension": ".py",
   "mimetype": "text/x-python",
   "name": "python",
   "nbconvert_exporter": "python",
   "pygments_lexer": "ipython3",
   "version": "3.11.4"
  }
 },
 "nbformat": 4,
 "nbformat_minor": 5
}
