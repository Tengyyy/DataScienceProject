{
 "cells": [
  {
   "cell_type": "code",
   "execution_count": 1,
   "id": "initial_id",
   "metadata": {
    "ExecuteTime": {
     "end_time": "2023-12-10T20:42:56.915389300Z",
     "start_time": "2023-12-10T20:42:56.892016700Z"
    }
   },
   "outputs": [
    {
     "data": {
      "text/html": [
       "<img src=\"nba-karl-malone.gif\"/>"
      ],
      "text/plain": [
       "<IPython.core.display.Image object>"
      ]
     },
     "execution_count": 1,
     "metadata": {},
     "output_type": "execute_result"
    }
   ],
   "source": [
    "import numpy as np\n",
    "from IPython.display import Image\n",
    "import pandas as pd\n",
    "from sklearn.model_selection import train_test_split\n",
    "from sklearn.metrics import classification_report, confusion_matrix\n",
    "from sklearn.linear_model import LogisticRegression\n",
    "from sklearn.ensemble import RandomForestClassifier\n",
    "from sklearn.neighbors import KNeighborsClassifier\n",
    "Image(url='nba-karl-malone.gif')"
   ]
  },
  {
   "cell_type": "code",
   "execution_count": 2,
   "id": "d1aefb35ad980444",
   "metadata": {
    "ExecuteTime": {
     "end_time": "2023-12-10T20:42:59.867783600Z",
     "start_time": "2023-12-10T20:42:59.624686300Z"
    }
   },
   "outputs": [],
   "source": [
    "player_totals=pd.read_csv('./data/Player Totals.csv')\n",
    "player_season_info=pd.read_csv('./data/Player Season Info.csv')\n",
    "player_career_info=pd.read_csv('./data/Player Career Info.csv')\n",
    "player_award_shares=pd.read_csv('./data/Player Award Shares.csv')\n",
    "all_star=pd.read_csv('./data/All-Star Selections.csv')\n",
    "advanced=pd.read_csv('./data/Advanced.csv')\n",
    "end_of_season=pd.read_csv('./data/End of Season Teams.csv')\n",
    "\n",
    "hof=player_career_info.drop(['birth_year','num_seasons'],axis=1)\n",
    "player_names_and_seasons=hof[['player','first_seas','last_seas','player_id']]"
   ]
  },
  {
   "cell_type": "code",
   "execution_count": 3,
   "id": "219755931abc6fff",
   "metadata": {
    "ExecuteTime": {
     "end_time": "2023-12-10T20:43:02.114724700Z",
     "start_time": "2023-12-10T20:43:01.424928200Z"
    }
   },
   "outputs": [],
   "source": [
    "seasons = np.flip(player_totals.season.unique())\n",
    "seasons_leaderboards = {}\n",
    "for season in seasons:\n",
    "    season_top10s = {'pts': player_totals[player_totals['season'] == season].sort_values(by=['pts']).tail(10),\n",
    "                     'reb': player_totals[player_totals['season'] == season].sort_values(by=['trb']).tail(10),\n",
    "                     'ast': player_totals[player_totals['season'] == season].sort_values(by=['ast']).tail(10),\n",
    "                     'min': player_totals[player_totals['season'] == season].sort_values(by=['mp']).tail(10),\n",
    "                     'stl': player_totals[player_totals['season'] == season].sort_values(by=['stl']).tail(10),\n",
    "                     'blk': player_totals[player_totals['season'] == season].sort_values(by=['blk']).tail(10)}\n",
    "    seasons_leaderboards[season] = season_top10s"
   ]
  },
  {
   "cell_type": "code",
   "execution_count": 4,
   "id": "5d6bebe4191fc8f9",
   "metadata": {
    "ExecuteTime": {
     "end_time": "2023-12-10T19:45:45.557703200Z",
     "start_time": "2023-12-10T19:38:54.841534600Z"
    }
   },
   "outputs": [
    {
     "name": "stdout",
     "output_type": "stream",
     "text": [
      "0\n",
      "250\n",
      "500\n",
      "750\n",
      "1000\n",
      "1250\n",
      "1500\n",
      "1750\n",
      "2000\n",
      "2250\n",
      "2500\n",
      "2750\n",
      "3000\n",
      "3250\n",
      "3500\n",
      "3750\n",
      "4000\n",
      "4250\n",
      "4500\n",
      "4750\n",
      "5000\n"
     ]
    }
   ],
   "source": [
    "leaderboard_points=[]\n",
    "for i in range(len(player_names_and_seasons)):\n",
    "    x=0\n",
    "    if i%250==0:\n",
    "        print(i)\n",
    "    for season in range(player_names_and_seasons.iloc[i].first_seas,player_names_and_seasons.iloc[i].last_seas+1):\n",
    "        top10_pts = seasons_leaderboards[season]['pts']\n",
    "        top10_reb = seasons_leaderboards[season]['reb']\n",
    "        top10_ast = seasons_leaderboards[season]['ast']\n",
    "        top10_min = seasons_leaderboards[season]['min']\n",
    "        top10_stl = seasons_leaderboards[season]['stl']\n",
    "        top10_blk = seasons_leaderboards[season]['blk']\n",
    "        for j in range(9,-1,-1):\n",
    "            if top10_pts.iloc[j].player_id == player_names_and_seasons.iloc[i].player_id:\n",
    "                x+=(5 + j/2)\n",
    "            if top10_reb.iloc[j].player_id == player_names_and_seasons.iloc[i].player_id:\n",
    "                x+=(5 + j/2)\n",
    "            if top10_ast.iloc[j].player_id == player_names_and_seasons.iloc[i].player_id:\n",
    "                x+=(5 + j/2)\n",
    "            if top10_min.iloc[j].player_id == player_names_and_seasons.iloc[i].player_id:\n",
    "                x+=(5 + j/2)\n",
    "            if top10_stl.iloc[j].player_id == player_names_and_seasons.iloc[i].player_id:\n",
    "                x+=(5 + j/2)\n",
    "            if top10_blk.iloc[j].player_id == player_names_and_seasons.iloc[i].player_id:\n",
    "                x+=(5 + j/2)\n",
    "    leaderboard_points.append(x)\n",
    "    \n",
    "hof['Leaderboard points']=leaderboard_points        "
   ]
  },
  {
   "cell_type": "code",
   "execution_count": 5,
   "id": "bf07fea208fea653",
   "metadata": {
    "ExecuteTime": {
     "end_time": "2023-12-10T20:43:12.057204100Z",
     "start_time": "2023-12-10T20:43:12.031759100Z"
    }
   },
   "outputs": [
    {
     "data": {
      "text/plain": [
       "Index(['Player', 'From', 'To', 'Years', 'Pos', 'Ht', 'Height', 'Wt', 'G',\n",
       "       'PTS', 'TRB', 'AST', 'FG%', 'FG3%', 'FT%', 'eFG%', 'PER', 'WS',\n",
       "       'All Star', 'All NBA', 'All ABA', 'All Rookie', 'All Defensive',\n",
       "       'BLK Champ', 'STL Champ', 'TRB Champ', 'AST Champ', 'Scoring Champ',\n",
       "       'Most Improved', 'Sixth Man', 'DPOY', 'ROY', 'AS MVP', 'CF MVP',\n",
       "       'Finals MVP', 'MVP', 'Championships', 'NBA 75 Team',\n",
       "       'ABA All-Time Team'],\n",
       "      dtype='object')"
      ]
     },
     "execution_count": 5,
     "metadata": {},
     "output_type": "execute_result"
    }
   ],
   "source": [
    "clean=pd.read_csv('./data/NBA_players_clean.csv')\n",
    "clean.columns"
   ]
  },
  {
   "cell_type": "code",
   "execution_count": 6,
   "id": "e00ed6bd99b4efce",
   "metadata": {
    "ExecuteTime": {
     "end_time": "2023-12-10T20:43:14.062474500Z",
     "start_time": "2023-12-10T20:43:14.029583300Z"
    }
   },
   "outputs": [
    {
     "data": {
      "text/plain": [
       "0             Alaa Abdelnaby\n",
       "1            Zaid Abdul-Aziz\n",
       "2       Kareem Abdul-Jabbar*\n",
       "3         Mahmoud Abdul-Rauf\n",
       "4          Tariq Abdul-Wahad\n",
       "                ...         \n",
       "5018              Ante Žižić\n",
       "5019                Jim Zoet\n",
       "5020               Bill Zopf\n",
       "5021             Ivica Zubac\n",
       "5022              Matt Zunic\n",
       "Name: Player, Length: 5023, dtype: object"
      ]
     },
     "execution_count": 6,
     "metadata": {},
     "output_type": "execute_result"
    }
   ],
   "source": [
    "clean['Player']"
   ]
  },
  {
   "cell_type": "code",
   "execution_count": 7,
   "id": "ce72208ed952b429",
   "metadata": {
    "ExecuteTime": {
     "end_time": "2023-12-10T20:43:14.625085800Z",
     "start_time": "2023-12-10T20:43:14.592133700Z"
    }
   },
   "outputs": [],
   "source": [
    "def cut_string(str):\n",
    "    if '*' in str:\n",
    "        return str.split('*')[0]\n",
    "    else:\n",
    "        return str\n",
    "clean['player']=clean['Player'].apply(lambda x:cut_string(x))"
   ]
  },
  {
   "cell_type": "code",
   "execution_count": 8,
   "id": "516af05504656f43",
   "metadata": {
    "ExecuteTime": {
     "end_time": "2023-12-10T20:43:15.975968900Z",
     "start_time": "2023-12-10T20:43:15.962017600Z"
    }
   },
   "outputs": [
    {
     "data": {
      "text/plain": [
       "0            Alaa Abdelnaby\n",
       "1           Zaid Abdul-Aziz\n",
       "2       Kareem Abdul-Jabbar\n",
       "3        Mahmoud Abdul-Rauf\n",
       "4         Tariq Abdul-Wahad\n",
       "               ...         \n",
       "5018             Ante Žižić\n",
       "5019               Jim Zoet\n",
       "5020              Bill Zopf\n",
       "5021            Ivica Zubac\n",
       "5022             Matt Zunic\n",
       "Name: player, Length: 5023, dtype: object"
      ]
     },
     "execution_count": 8,
     "metadata": {},
     "output_type": "execute_result"
    }
   ],
   "source": [
    "clean['player']"
   ]
  },
  {
   "cell_type": "code",
   "execution_count": 9,
   "id": "37d09722",
   "metadata": {},
   "outputs": [
    {
     "ename": "KeyError",
     "evalue": "'Most Improve'",
     "output_type": "error",
     "traceback": [
      "\u001b[1;31m---------------------------------------------------------------------------\u001b[0m",
      "\u001b[1;31mKeyError\u001b[0m                                  Traceback (most recent call last)",
      "File \u001b[1;32m~\\anaconda3\\Lib\\site-packages\\pandas\\core\\indexes\\base.py:3802\u001b[0m, in \u001b[0;36mIndex.get_loc\u001b[1;34m(self, key, method, tolerance)\u001b[0m\n\u001b[0;32m   3801\u001b[0m \u001b[38;5;28;01mtry\u001b[39;00m:\n\u001b[1;32m-> 3802\u001b[0m     \u001b[38;5;28;01mreturn\u001b[39;00m \u001b[38;5;28mself\u001b[39m\u001b[38;5;241m.\u001b[39m_engine\u001b[38;5;241m.\u001b[39mget_loc(casted_key)\n\u001b[0;32m   3803\u001b[0m \u001b[38;5;28;01mexcept\u001b[39;00m \u001b[38;5;167;01mKeyError\u001b[39;00m \u001b[38;5;28;01mas\u001b[39;00m err:\n",
      "File \u001b[1;32m~\\anaconda3\\Lib\\site-packages\\pandas\\_libs\\index.pyx:138\u001b[0m, in \u001b[0;36mpandas._libs.index.IndexEngine.get_loc\u001b[1;34m()\u001b[0m\n",
      "File \u001b[1;32m~\\anaconda3\\Lib\\site-packages\\pandas\\_libs\\index.pyx:165\u001b[0m, in \u001b[0;36mpandas._libs.index.IndexEngine.get_loc\u001b[1;34m()\u001b[0m\n",
      "File \u001b[1;32mpandas\\_libs\\hashtable_class_helper.pxi:5745\u001b[0m, in \u001b[0;36mpandas._libs.hashtable.PyObjectHashTable.get_item\u001b[1;34m()\u001b[0m\n",
      "File \u001b[1;32mpandas\\_libs\\hashtable_class_helper.pxi:5753\u001b[0m, in \u001b[0;36mpandas._libs.hashtable.PyObjectHashTable.get_item\u001b[1;34m()\u001b[0m\n",
      "\u001b[1;31mKeyError\u001b[0m: 'Most Improve'",
      "\nThe above exception was the direct cause of the following exception:\n",
      "\u001b[1;31mKeyError\u001b[0m                                  Traceback (most recent call last)",
      "Cell \u001b[1;32mIn[9], line 38\u001b[0m\n\u001b[0;32m     36\u001b[0m     \u001b[38;5;28;01mfor\u001b[39;00m index2, clean_player \u001b[38;5;129;01min\u001b[39;00m clean_players\u001b[38;5;241m.\u001b[39miterrows():\n\u001b[0;32m     37\u001b[0m         \u001b[38;5;28;01mif\u001b[39;00m clean_player\u001b[38;5;241m.\u001b[39mFrom \u001b[38;5;241m==\u001b[39m player\u001b[38;5;241m.\u001b[39mfirst_seas \u001b[38;5;129;01mand\u001b[39;00m clean_player\u001b[38;5;241m.\u001b[39mTo \u001b[38;5;241m<\u001b[39m\u001b[38;5;241m=\u001b[39m player\u001b[38;5;241m.\u001b[39mlast_seas:\n\u001b[1;32m---> 38\u001b[0m             count \u001b[38;5;241m=\u001b[39m clean_player[career_stat]\n\u001b[0;32m     40\u001b[0m     counts\u001b[38;5;241m.\u001b[39mappend(count)\n\u001b[0;32m     42\u001b[0m colName \u001b[38;5;241m=\u001b[39m career_stats[career_stat]\n",
      "File \u001b[1;32m~\\anaconda3\\Lib\\site-packages\\pandas\\core\\series.py:981\u001b[0m, in \u001b[0;36mSeries.__getitem__\u001b[1;34m(self, key)\u001b[0m\n\u001b[0;32m    978\u001b[0m     \u001b[38;5;28;01mreturn\u001b[39;00m \u001b[38;5;28mself\u001b[39m\u001b[38;5;241m.\u001b[39m_values[key]\n\u001b[0;32m    980\u001b[0m \u001b[38;5;28;01melif\u001b[39;00m key_is_scalar:\n\u001b[1;32m--> 981\u001b[0m     \u001b[38;5;28;01mreturn\u001b[39;00m \u001b[38;5;28mself\u001b[39m\u001b[38;5;241m.\u001b[39m_get_value(key)\n\u001b[0;32m    983\u001b[0m \u001b[38;5;28;01mif\u001b[39;00m is_hashable(key):\n\u001b[0;32m    984\u001b[0m     \u001b[38;5;66;03m# Otherwise index.get_value will raise InvalidIndexError\u001b[39;00m\n\u001b[0;32m    985\u001b[0m     \u001b[38;5;28;01mtry\u001b[39;00m:\n\u001b[0;32m    986\u001b[0m         \u001b[38;5;66;03m# For labels that don't resolve as scalars like tuples and frozensets\u001b[39;00m\n",
      "File \u001b[1;32m~\\anaconda3\\Lib\\site-packages\\pandas\\core\\series.py:1089\u001b[0m, in \u001b[0;36mSeries._get_value\u001b[1;34m(self, label, takeable)\u001b[0m\n\u001b[0;32m   1086\u001b[0m     \u001b[38;5;28;01mreturn\u001b[39;00m \u001b[38;5;28mself\u001b[39m\u001b[38;5;241m.\u001b[39m_values[label]\n\u001b[0;32m   1088\u001b[0m \u001b[38;5;66;03m# Similar to Index.get_value, but we do not fall back to positional\u001b[39;00m\n\u001b[1;32m-> 1089\u001b[0m loc \u001b[38;5;241m=\u001b[39m \u001b[38;5;28mself\u001b[39m\u001b[38;5;241m.\u001b[39mindex\u001b[38;5;241m.\u001b[39mget_loc(label)\n\u001b[0;32m   1090\u001b[0m \u001b[38;5;28;01mreturn\u001b[39;00m \u001b[38;5;28mself\u001b[39m\u001b[38;5;241m.\u001b[39mindex\u001b[38;5;241m.\u001b[39m_get_values_for_loc(\u001b[38;5;28mself\u001b[39m, loc, label)\n",
      "File \u001b[1;32m~\\anaconda3\\Lib\\site-packages\\pandas\\core\\indexes\\base.py:3804\u001b[0m, in \u001b[0;36mIndex.get_loc\u001b[1;34m(self, key, method, tolerance)\u001b[0m\n\u001b[0;32m   3802\u001b[0m     \u001b[38;5;28;01mreturn\u001b[39;00m \u001b[38;5;28mself\u001b[39m\u001b[38;5;241m.\u001b[39m_engine\u001b[38;5;241m.\u001b[39mget_loc(casted_key)\n\u001b[0;32m   3803\u001b[0m \u001b[38;5;28;01mexcept\u001b[39;00m \u001b[38;5;167;01mKeyError\u001b[39;00m \u001b[38;5;28;01mas\u001b[39;00m err:\n\u001b[1;32m-> 3804\u001b[0m     \u001b[38;5;28;01mraise\u001b[39;00m \u001b[38;5;167;01mKeyError\u001b[39;00m(key) \u001b[38;5;28;01mfrom\u001b[39;00m \u001b[38;5;21;01merr\u001b[39;00m\n\u001b[0;32m   3805\u001b[0m \u001b[38;5;28;01mexcept\u001b[39;00m \u001b[38;5;167;01mTypeError\u001b[39;00m:\n\u001b[0;32m   3806\u001b[0m     \u001b[38;5;66;03m# If we have a listlike key, _check_indexing_error will raise\u001b[39;00m\n\u001b[0;32m   3807\u001b[0m     \u001b[38;5;66;03m#  InvalidIndexError. Otherwise we fall through and re-raise\u001b[39;00m\n\u001b[0;32m   3808\u001b[0m     \u001b[38;5;66;03m#  the TypeError.\u001b[39;00m\n\u001b[0;32m   3809\u001b[0m     \u001b[38;5;28mself\u001b[39m\u001b[38;5;241m.\u001b[39m_check_indexing_error(key)\n",
      "\u001b[1;31mKeyError\u001b[0m: 'Most Improve'"
     ]
    }
   ],
   "source": [
    "career_stats = {\n",
    "    'Height': 'height',\n",
    "    'Wt': 'weight',\n",
    "    'G': 'games',\n",
    "    'PTS': 'points',\n",
    "    'TRB': 'total rebounds',\n",
    "    'AST': 'total assists',\n",
    "    'FG%': 'field goal percentage',\n",
    "    'FG3%': '3-point field goal percentage',\n",
    "    'FT%': 'free throw percentage',\n",
    "    'eFG%': 'effective field goal percentage',\n",
    "    'All Star': 'all star selections',\n",
    "    'All NBA': 'all NBA selections',\n",
    "    'All ABA': 'all ABA selections',\n",
    "    'All Rookie': 'all rookie team selections',\n",
    "    'All Defensive': 'all defensive team selections',\n",
    "    'Most Improved': 'most improved player of the year wins',\n",
    "    'Sixth Man': 'sixth man of the year wins',\n",
    "    'DPOY': 'defensive player of the year wins',\n",
    "    'ROY': 'rookie of the year wins',\n",
    "    'AS MVP': 'all star game MVP wins',\n",
    "    'CF MVP': 'conference finals MVP wins',\n",
    "    'Finals MVP': 'finals MVP wins',\n",
    "    'MVP': 'most valuable player of the year wins',\n",
    "    'Championships': 'championships'\n",
    "}\n",
    "\n",
    "for career_stat in career_stats:\n",
    "    counts = []\n",
    "\n",
    "    for index, player in player_names_and_seasons.iterrows():\n",
    "        count = 0\n",
    "    \n",
    "        clean_players=clean[clean.player==player.player]\n",
    "\n",
    "        for index2, clean_player in clean_players.iterrows():\n",
    "            if clean_player.From == player.first_seas and clean_player.To <= player.last_seas:\n",
    "                count = clean_player[career_stat]\n",
    "            \n",
    "        counts.append(count)\n",
    "\n",
    "    colName = career_stats[career_stat]\n",
    "    hof[colName] = counts"
   ]
  },
  {
   "cell_type": "code",
   "execution_count": null,
   "id": "226c22f6",
   "metadata": {},
   "outputs": [],
   "source": [
    "advanced_stat_cols = {\n",
    "    'vorp': 'value over replacement player',\n",
    "    'bpm': 'box plus minus',\n",
    "    'dbpm': 'defensive box plus minus',\n",
    "    'obpm': 'offensive box plus minus',\n",
    "    'ws_48': 'win shares per 48 minutes',\n",
    "    'ws': 'win shares',\n",
    "    'dws': 'defensive win shares',\n",
    "    'ows': 'offensive win shares',\n",
    "    'usg_percent': 'usage percentage',\n",
    "    'tov_percent': 'turnover percentage',\n",
    "    'blk_percent': 'block percentage',\n",
    "    'stl_percent': 'steal percentage',\n",
    "    'ast_percent': 'assist percentage',\n",
    "    'trb_percent': 'total rebounds percentage',\n",
    "    'drb_percent': 'defensive rebounds percentage',\n",
    "    'orb_percent': 'offensive rebounds percentage',\n",
    "    'f_tr': 'free throw rate',\n",
    "    'x3p_ar': 'three point attempt rate',\n",
    "    'ts_percent': 'true shooting percentage',\n",
    "    'per': 'player efficiency rating'\n",
    "}\n",
    "\n",
    "for stat in advanced_stat_cols:\n",
    "    best5Avgs = []\n",
    "\n",
    "    for player in player_names_and_seasons.player_id:\n",
    "        best5Avgs.append(advanced[advanced['player_id']==player].nlargest(5, stat)[stat].mean())\n",
    "\n",
    "    columnName = 'Average of 5 highest {col} seasons'.format(col = advanced_stat_cols[stat])\n",
    "    hof[columnName]=best5Avgs\n",
    "\n",
    "    hof[columnName] = hof[columnName].fillna(hof[columnName].mean())\n",
    "\n"
   ]
  },
  {
   "cell_type": "code",
   "execution_count": null,
   "id": "12ffbfbf76d124b3",
   "metadata": {
    "ExecuteTime": {
     "end_time": "2023-12-10T19:46:53.298939600Z",
     "start_time": "2023-12-10T19:46:53.246104700Z"
    }
   },
   "outputs": [],
   "source": [
    "hof.isna().sum()"
   ]
  },
  {
   "cell_type": "code",
   "execution_count": null,
   "id": "b399d9cd326c312d",
   "metadata": {
    "ExecuteTime": {
     "end_time": "2023-12-10T20:43:49.034499100Z",
     "start_time": "2023-12-10T20:43:49.023534600Z"
    }
   },
   "outputs": [],
   "source": [
    "hof['hof'] = hof['hof'].astype(int)"
   ]
  },
  {
   "cell_type": "code",
   "execution_count": null,
   "id": "cb31d09bd1bad732",
   "metadata": {
    "ExecuteTime": {
     "end_time": "2023-12-10T20:43:49.065909900Z",
     "start_time": "2023-12-10T20:43:49.051444100Z"
    }
   },
   "outputs": [],
   "source": [
    "hof[hof['player']=='Patrick Ewing']"
   ]
  },
  {
   "cell_type": "code",
   "execution_count": null,
   "id": "9beb9d82322d7734",
   "metadata": {},
   "outputs": [],
   "source": [
    "hof.drop(3966,inplace=True)"
   ]
  },
  {
   "cell_type": "code",
   "execution_count": null,
   "id": "ea5c9498528c953a",
   "metadata": {
    "ExecuteTime": {
     "end_time": "2023-12-10T20:43:49.903771Z",
     "start_time": "2023-12-10T20:43:49.065909900Z"
    }
   },
   "outputs": [],
   "source": [
    "from sklearn.preprocessing import StandardScaler\n",
    "\n",
    "young=hof[(hof['last_seas']>2014) & (hof['hof']==0)]\n",
    "old=hof[hof['last_seas']<=2014]\n",
    "X_a=old.drop(['first_seas','last_seas','hof','player','player_id'],axis=1)\n",
    "y=old['hof']\n",
    "X= StandardScaler().fit_transform(X_a)\n",
    "X = pd.DataFrame(X, columns=X_a.columns, index=X_a.index)\n",
    "X_pred_a=young.drop(['first_seas','last_seas','hof','player','player_id'],axis=1)\n",
    "X_pred =StandardScaler().fit_transform(X_pred_a)\n",
    "X_pred = pd.DataFrame(X_pred, columns=X_pred_a.columns, index=X_pred_a.index)\n",
    "y_pred=young['hof']\n",
    "X_train, X_test, y_train, y_test = train_test_split(X, y, test_size=0.25, random_state=42)\n",
    "\n",
    "knn = KNeighborsClassifier(n_neighbors=1)\n",
    "knn.fit(X_train,y_train)\n",
    "pred_knn = knn.predict(X_test)\n",
    "knn_prob=knn.predict_proba(X_pred)[:,-1]\n",
    "\n",
    "logmodel=LogisticRegression(max_iter=10000)\n",
    "logmodel.fit(X_train,y_train)\n",
    "pred_log=logmodel.predict(X_test)\n",
    "log_prob=logmodel.predict_proba(X_pred)[:,-1]\n",
    "\n",
    "rfc=RandomForestClassifier(n_estimators=200)\n",
    "rfc.fit(X_train,y_train)\n",
    "pred_rfc=rfc.predict(X_test)\n",
    "rfc_prob=rfc.predict_proba(X_pred)[:,-1]\n",
    "\n",
    "\n",
    "print('Logistic Regression')\n",
    "print(confusion_matrix(y_test,pred_log))\n",
    "print(classification_report(y_test,pred_log))\n",
    "\n",
    "print('Random Forest')\n",
    "print(confusion_matrix(y_test,pred_rfc))\n",
    "print(classification_report(y_test,pred_rfc))\n",
    "\n",
    "\n",
    "print('K Nearest Neighbor')\n",
    "print(confusion_matrix(y_test,pred_knn))\n",
    "print(classification_report(y_test,pred_knn))\n",
    "\n",
    "\n"
   ]
  },
  {
   "cell_type": "code",
   "execution_count": null,
   "id": "5f38b46be25a158",
   "metadata": {
    "ExecuteTime": {
     "end_time": "2023-12-10T20:43:49.921957500Z",
     "start_time": "2023-12-10T20:43:49.895540600Z"
    }
   },
   "outputs": [],
   "source": [
    "res=pd.concat([X_pred,y_pred],axis=1)\n",
    "\n",
    "#res['log_pred']=pred_log\n",
    "res['log_prob']=log_prob\n",
    "\n",
    "#res['rfc_pred']=pred_rfc\n",
    "res['rfc_prob']=rfc_prob\n",
    "\n",
    "#res['knn_pred']=pred_knn\n",
    "res['knn_prob']=knn_prob\n",
    "\n",
    "res_final=pd.concat([res,hof['player']],axis=1).dropna()"
   ]
  },
  {
   "cell_type": "code",
   "execution_count": null,
   "id": "64544fa144b44ceb",
   "metadata": {
    "ExecuteTime": {
     "end_time": "2023-12-10T20:43:49.922978700Z",
     "start_time": "2023-12-10T20:43:49.909924600Z"
    }
   },
   "outputs": [],
   "source": [
    "final = res_final[['player','log_prob']]\n",
    "final.sort_values(by=['log_prob'],ascending=False)"
   ]
  },
  {
   "cell_type": "code",
   "execution_count": null,
   "id": "f81a354beb0f6ccf",
   "metadata": {
    "ExecuteTime": {
     "end_time": "2023-12-10T20:43:52.105822100Z",
     "start_time": "2023-12-10T20:43:52.069929200Z"
    }
   },
   "outputs": [],
   "source": [
    "pd.DataFrame(logmodel.coef_, columns=X_train.columns)"
   ]
  },
  {
   "cell_type": "code",
   "execution_count": null,
   "id": "d0b92f321e234a73",
   "metadata": {
    "ExecuteTime": {
     "end_time": "2023-12-10T20:42:25.827116300Z",
     "start_time": "2023-12-10T20:42:25.808832300Z"
    }
   },
   "outputs": [],
   "source": [
    "logmodel.score(X_train,y_train)"
   ]
  },
  {
   "cell_type": "code",
   "execution_count": null,
   "id": "f71507a5363f8f7a",
   "metadata": {
    "ExecuteTime": {
     "end_time": "2023-12-10T20:44:25.484565Z",
     "start_time": "2023-12-10T20:44:25.336916100Z"
    }
   },
   "outputs": [],
   "source": [
    "from sklearn.metrics import mean_squared_error\n",
    "import matplotlib.pyplot as plt \n",
    " \n",
    "  \n",
    "# creating the dataset\n",
    "data = {'Logistic Regression':mean_squared_error(pred_log, y_test), 'Random Forest':mean_squared_error(pred_rfc, y_test), \n",
    "        'KNN':mean_squared_error(pred_knn, y_test)}\n",
    "courses = list(data.keys())\n",
    "values = list(data.values())\n",
    "  \n",
    "fig = plt.figure(figsize = (10, 5))\n",
    " \n",
    "# creating the bar plot\n",
    "plt.bar(courses, values, color ='maroon', \n",
    "        width = 0.6)\n",
    "plt.xticks(fontsize= 20)\n",
    "plt.yticks(fontsize= 20)\n",
    "plt.xlabel(\"Model\", fontsize= 20)\n",
    "plt.ylabel(\"MSE\", fontsize= 20)\n",
    "plt.title(\"MSE based on the tested model\", fontsize=20)\n",
    "plt.show()"
   ]
  },
  {
   "cell_type": "code",
   "execution_count": null,
   "id": "e487398e395d23df",
   "metadata": {},
   "outputs": [],
   "source": []
  }
 ],
 "metadata": {
  "kernelspec": {
   "display_name": "Python 3 (ipykernel)",
   "language": "python",
   "name": "python3"
  },
  "language_info": {
   "codemirror_mode": {
    "name": "ipython",
    "version": 3
   },
   "file_extension": ".py",
   "mimetype": "text/x-python",
   "name": "python",
   "nbconvert_exporter": "python",
   "pygments_lexer": "ipython3",
   "version": "3.11.4"
  }
 },
 "nbformat": 4,
 "nbformat_minor": 5
}
