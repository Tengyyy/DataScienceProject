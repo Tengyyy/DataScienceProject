{
 "cells": [
  {
   "cell_type": "code",
   "execution_count": 41,
   "id": "initial_id",
   "metadata": {
    "ExecuteTime": {
     "end_time": "2023-12-09T15:23:38.447355100Z",
     "start_time": "2023-12-09T15:23:38.436296600Z"
    }
   },
   "outputs": [
    {
     "data": {
      "text/html": "<img src=\"nba-karl-malone.gif\"/>",
      "text/plain": "<IPython.core.display.Image object>"
     },
     "execution_count": 41,
     "metadata": {},
     "output_type": "execute_result"
    }
   ],
   "source": [
    "import numpy as np\n",
    "from IPython.display import Image\n",
    "import pandas as pd\n",
    "from sklearn.model_selection import train_test_split\n",
    "from sklearn.metrics import classification_report, confusion_matrix\n",
    "from sklearn.linear_model import LogisticRegression\n",
    "from sklearn.ensemble import RandomForestClassifier\n",
    "from sklearn.neighbors import KNeighborsClassifier\n",
    "Image(url='nba-karl-malone.gif')"
   ]
  },
  {
   "cell_type": "code",
   "execution_count": 42,
   "id": "eb69cfbdae81afcc",
   "metadata": {
    "ExecuteTime": {
     "end_time": "2023-12-09T15:23:41.346196Z",
     "start_time": "2023-12-09T15:23:41.110283900Z"
    }
   },
   "outputs": [],
   "source": [
    "player_totals=pd.read_csv('./data/Player Totals.csv')\n",
    "player_season_info=pd.read_csv('./data/Player Season Info.csv')\n",
    "player_career_info=pd.read_csv('./data/Player Career Info.csv')\n",
    "player_award_shares=pd.read_csv('./data/Player Award Shares.csv')\n",
    "all_star=pd.read_csv('./data/All-Star Selections.csv')\n",
    "advanced=pd.read_csv('./data/Advanced.csv')\n",
    "end_of_season=pd.read_csv('./data/End of Season Teams.csv')\n",
    "\n",
    "hof=player_career_info.drop(['birth_year','num_seasons'],axis=1)\n",
    "player_names_and_seasons=hof[['player','first_seas','last_seas','player_id']]"
   ]
  },
  {
   "cell_type": "code",
   "execution_count": 43,
   "id": "8b5345ea3de68e9c",
   "metadata": {
    "ExecuteTime": {
     "end_time": "2023-12-09T15:23:43.553923700Z",
     "start_time": "2023-12-09T15:23:43.263176900Z"
    }
   },
   "outputs": [],
   "source": [
    "seasons = np.flip(player_totals.season.unique())\n",
    "seasons_leaderboards = {}\n",
    "for season in seasons:\n",
    "    season_top10s = {'pts': player_totals[player_totals['season'] == season].sort_values(by=['pts']).tail(10),\n",
    "                     'reb': player_totals[player_totals['season'] == season].sort_values(by=['trb']).tail(10),\n",
    "                     'ast': player_totals[player_totals['season'] == season].sort_values(by=['ast']).tail(10),\n",
    "                     'min': player_totals[player_totals['season'] == season].sort_values(by=['mp']).tail(10),\n",
    "                     'stl': player_totals[player_totals['season'] == season].sort_values(by=['stl']).tail(10),\n",
    "                     'blk': player_totals[player_totals['season'] == season].sort_values(by=['blk']).tail(10)}\n",
    "    seasons_leaderboards[season] = season_top10s"
   ]
  },
  {
   "cell_type": "code",
   "execution_count": 44,
   "id": "efc7de314d7795c7",
   "metadata": {
    "ExecuteTime": {
     "end_time": "2023-12-09T15:28:45.263074600Z",
     "start_time": "2023-12-09T15:23:49.213180800Z"
    }
   },
   "outputs": [
    {
     "name": "stdout",
     "output_type": "stream",
     "text": [
      "0\n",
      "250\n",
      "500\n",
      "750\n",
      "1000\n",
      "1250\n",
      "1500\n",
      "1750\n",
      "2000\n",
      "2250\n",
      "2500\n",
      "2750\n",
      "3000\n",
      "3250\n",
      "3500\n",
      "3750\n",
      "4000\n",
      "4250\n",
      "4500\n",
      "4750\n",
      "5000\n"
     ]
    }
   ],
   "source": [
    "leaderboard_points=[]\n",
    "for i in range(len(player_names_and_seasons)):\n",
    "    x=0\n",
    "    if i%250==0:\n",
    "        print(i)\n",
    "    for season in range(player_names_and_seasons.iloc[i].first_seas,player_names_and_seasons.iloc[i].last_seas+1):\n",
    "        top10_pts = seasons_leaderboards[season]['pts']\n",
    "        top10_reb = seasons_leaderboards[season]['reb']\n",
    "        top10_ast = seasons_leaderboards[season]['ast']\n",
    "        top10_min = seasons_leaderboards[season]['min']\n",
    "        top10_stl = seasons_leaderboards[season]['stl']\n",
    "        top10_blk = seasons_leaderboards[season]['blk']\n",
    "        for j in range(9,-1,-1):\n",
    "            if top10_pts.iloc[j].player_id == player_names_and_seasons.iloc[i].player_id:\n",
    "                x+=j+1\n",
    "            if top10_reb.iloc[j].player_id == player_names_and_seasons.iloc[i].player_id:\n",
    "                x+=j+1\n",
    "            if top10_ast.iloc[j].player_id == player_names_and_seasons.iloc[i].player_id:\n",
    "                x+=j+1\n",
    "            if top10_min.iloc[j].player_id == player_names_and_seasons.iloc[i].player_id:\n",
    "                x+=j+1\n",
    "            if top10_stl.iloc[j].player_id == player_names_and_seasons.iloc[i].player_id:\n",
    "                x+=j+1\n",
    "            if top10_blk.iloc[j].player_id == player_names_and_seasons.iloc[i].player_id:\n",
    "                x+=j+1\n",
    "    leaderboard_points.append(x)\n",
    "    \n",
    "hof['Leaderboard points']=leaderboard_points        "
   ]
  },
  {
   "cell_type": "code",
   "execution_count": 45,
   "id": "b1ee8b941c3066b3",
   "metadata": {
    "ExecuteTime": {
     "end_time": "2023-12-09T15:28:46.905599300Z",
     "start_time": "2023-12-09T15:28:45.266064200Z"
    }
   },
   "outputs": [],
   "source": [
    "allstar=[]\n",
    "for i in player_names_and_seasons.player:\n",
    "    x=0\n",
    "    a=all_star[all_star['player']==i]\n",
    "    if not a.empty:\n",
    "        x=a['replaced'].count()\n",
    "            \n",
    "    allstar.append(x)\n",
    "\n",
    "hof['All-Star appearances']=allstar        "
   ]
  },
  {
   "cell_type": "code",
   "execution_count": 46,
   "id": "f2aa4bfbc9546183",
   "metadata": {
    "ExecuteTime": {
     "end_time": "2023-12-09T15:28:46.944216100Z",
     "start_time": "2023-12-09T15:28:46.908589800Z"
    }
   },
   "outputs": [
    {
     "data": {
      "text/plain": "Index(['Player', 'From', 'To', 'Years', 'Pos', 'Ht', 'Height', 'Wt', 'G',\n       'PTS', 'TRB', 'AST', 'FG%', 'FG3%', 'FT%', 'eFG%', 'PER', 'WS',\n       'All Star', 'All NBA', 'All ABA', 'All Rookie', 'All Defensive',\n       'BLK Champ', 'STL Champ', 'TRB Champ', 'AST Champ', 'Scoring Champ',\n       'Most Improved', 'Sixth Man', 'DPOY', 'ROY', 'AS MVP', 'CF MVP',\n       'Finals MVP', 'MVP', 'Championships', 'NBA 75 Team',\n       'ABA All-Time Team'],\n      dtype='object')"
     },
     "execution_count": 46,
     "metadata": {},
     "output_type": "execute_result"
    }
   ],
   "source": [
    "clean=pd.read_csv('./data/NBA_players_clean.csv')\n",
    "clean.columns"
   ]
  },
  {
   "cell_type": "code",
   "execution_count": 47,
   "id": "ed2947bfb3744a1e",
   "metadata": {
    "ExecuteTime": {
     "end_time": "2023-12-09T15:28:46.954853700Z",
     "start_time": "2023-12-09T15:28:46.940160200Z"
    }
   },
   "outputs": [
    {
     "data": {
      "text/plain": "0             Alaa Abdelnaby\n1            Zaid Abdul-Aziz\n2       Kareem Abdul-Jabbar*\n3         Mahmoud Abdul-Rauf\n4          Tariq Abdul-Wahad\n                ...         \n5018              Ante Žižić\n5019                Jim Zoet\n5020               Bill Zopf\n5021             Ivica Zubac\n5022              Matt Zunic\nName: Player, Length: 5023, dtype: object"
     },
     "execution_count": 47,
     "metadata": {},
     "output_type": "execute_result"
    }
   ],
   "source": [
    "clean['Player']"
   ]
  },
  {
   "cell_type": "code",
   "execution_count": 48,
   "id": "768bcac94febbf66",
   "metadata": {
    "ExecuteTime": {
     "end_time": "2023-12-09T15:28:46.998437200Z",
     "start_time": "2023-12-09T15:28:46.955858800Z"
    }
   },
   "outputs": [],
   "source": [
    "def cut_string(str):\n",
    "    if '*' in str:\n",
    "        return str.split('*')[0]\n",
    "    else:\n",
    "        return str\n",
    "clean['player']=clean['Player'].apply(lambda x:cut_string(x))"
   ]
  },
  {
   "cell_type": "code",
   "execution_count": 49,
   "id": "a6ef3b9a50e76983",
   "metadata": {
    "ExecuteTime": {
     "end_time": "2023-12-09T15:28:47.010941800Z",
     "start_time": "2023-12-09T15:28:46.970336100Z"
    }
   },
   "outputs": [
    {
     "data": {
      "text/plain": "0            Alaa Abdelnaby\n1           Zaid Abdul-Aziz\n2       Kareem Abdul-Jabbar\n3        Mahmoud Abdul-Rauf\n4         Tariq Abdul-Wahad\n               ...         \n5018             Ante Žižić\n5019               Jim Zoet\n5020              Bill Zopf\n5021            Ivica Zubac\n5022             Matt Zunic\nName: player, Length: 5023, dtype: object"
     },
     "execution_count": 49,
     "metadata": {},
     "output_type": "execute_result"
    }
   ],
   "source": [
    "clean['player']"
   ]
  },
  {
   "cell_type": "code",
   "execution_count": 50,
   "id": "e23965194bfdae90",
   "metadata": {
    "ExecuteTime": {
     "end_time": "2023-12-09T15:28:49.680859Z",
     "start_time": "2023-12-09T15:28:46.987961800Z"
    }
   },
   "outputs": [],
   "source": [
    "rings_list=[]\n",
    "for player in player_names_and_seasons.player:\n",
    "    x=0\n",
    "    a=clean[clean['player']==player]['Championships']\n",
    "    if not a.empty:\n",
    "        x=a.iloc[0]\n",
    "    \n",
    "    rings_list.append(x)    \n",
    "            \n",
    "hof['Championships']=rings_list     "
   ]
  },
  {
   "cell_type": "code",
   "execution_count": 51,
   "id": "8a2430f765f36397",
   "metadata": {
    "ExecuteTime": {
     "end_time": "2023-12-09T15:28:55.084308200Z",
     "start_time": "2023-12-09T15:28:49.682852700Z"
    }
   },
   "outputs": [],
   "source": [
    "best5WSAverage=[]\n",
    "for i in player_names_and_seasons.player_id:\n",
    "    best5WSAverage.append(advanced[advanced['player_id']==i].nlargest(5, 'ws')['ws'].mean())\n",
    "hof['Average of 5 highest WS seasons']=best5WSAverage\n"
   ]
  },
  {
   "cell_type": "code",
   "execution_count": 52,
   "id": "1ca312c6",
   "metadata": {
    "ExecuteTime": {
     "end_time": "2023-12-09T15:29:00.408725100Z",
     "start_time": "2023-12-09T15:28:55.088295600Z"
    }
   },
   "outputs": [],
   "source": [
    "best5BPMAverage=[]\n",
    "for i in player_names_and_seasons.player_id:\n",
    "    best5BPMAverage.append(advanced[advanced['player_id']==i].nlargest(5, 'bpm')['bpm'].mean())\n",
    "hof['Average of 5 highest BPM seasons']=best5BPMAverage"
   ]
  },
  {
   "cell_type": "code",
   "execution_count": 53,
   "id": "fbe18b92",
   "metadata": {
    "ExecuteTime": {
     "end_time": "2023-12-09T15:29:06.030679600Z",
     "start_time": "2023-12-09T15:29:00.413233200Z"
    }
   },
   "outputs": [],
   "source": [
    "best5VORPAverage=[]\n",
    "for i in player_names_and_seasons.player_id:\n",
    "    best5VORPAverage.append(advanced[advanced['player_id']==i].nlargest(5, 'vorp')['vorp'].mean())\n",
    "hof['Average of 5 highest VORP seasons']=best5VORPAverage"
   ]
  },
  {
   "cell_type": "code",
   "execution_count": 54,
   "id": "74de1cdb96842b5b",
   "metadata": {
    "ExecuteTime": {
     "end_time": "2023-12-09T15:29:08.849415Z",
     "start_time": "2023-12-09T15:29:06.033669900Z"
    }
   },
   "outputs": [],
   "source": [
    "heights=[]\n",
    "\n",
    "for i in player_names_and_seasons.player:\n",
    "    a=clean[clean['player']==i]['Height']\n",
    "    if not a.empty:\n",
    "        x=a.iloc[0]\n",
    "    else:\n",
    "        x=clean.Height.mean()\n",
    "    \n",
    "    heights.append(x)    \n",
    "            \n",
    "hof['Height']=heights\n"
   ]
  },
  {
   "cell_type": "code",
   "execution_count": 55,
   "id": "9e323cf3e65213ed",
   "metadata": {
    "ExecuteTime": {
     "end_time": "2023-12-09T15:29:08.866969800Z",
     "start_time": "2023-12-09T15:29:08.851674300Z"
    }
   },
   "outputs": [
    {
     "data": {
      "text/plain": "player_id                               0\nplayer                                  0\nhof                                     0\nfirst_seas                              0\nlast_seas                               0\nLeaderboard points                      0\nAll-Star appearances                    0\nChampionships                           0\nAverage of 5 highest WS seasons         1\nAverage of 5 highest BPM seasons     1199\nAverage of 5 highest VORP seasons    1199\nHeight                                  0\ndtype: int64"
     },
     "execution_count": 55,
     "metadata": {},
     "output_type": "execute_result"
    }
   ],
   "source": [
    "hof.isna().sum()"
   ]
  },
  {
   "cell_type": "code",
   "execution_count": 56,
   "id": "c85b31ce8ce69da7",
   "metadata": {
    "ExecuteTime": {
     "end_time": "2023-12-09T15:29:08.892605700Z",
     "start_time": "2023-12-09T15:29:08.870150900Z"
    }
   },
   "outputs": [],
   "source": [
    "hof['hof'] = hof['hof'].astype(int)"
   ]
  },
  {
   "cell_type": "code",
   "execution_count": 57,
   "id": "e284ee8c96404176",
   "metadata": {
    "ExecuteTime": {
     "end_time": "2023-12-09T15:29:08.905183100Z",
     "start_time": "2023-12-09T15:29:08.891452700Z"
    }
   },
   "outputs": [],
   "source": [
    "hof['Average of 5 highest WS seasons'] = hof['Average of 5 highest WS seasons'].fillna(0)\n",
    "hof['Average of 5 highest BPM seasons'] = hof['Average of 5 highest BPM seasons'].fillna(0)\n",
    "hof['Average of 5 highest VORP seasons'] = hof['Average of 5 highest VORP seasons'].fillna(0)\n"
   ]
  },
  {
   "cell_type": "code",
   "execution_count": 58,
   "id": "418f2a3ef325fbda",
   "metadata": {
    "ExecuteTime": {
     "end_time": "2023-12-09T15:29:08.946577900Z",
     "start_time": "2023-12-09T15:29:08.900200100Z"
    }
   },
   "outputs": [
    {
     "data": {
      "text/plain": "      player_id         player  hof  first_seas  last_seas  \\\n2263       2264  Patrick Ewing    1        1986       2002   \n3966       3967  Patrick Ewing    0        2011       2011   \n\n      Leaderboard points  All-Star appearances  Championships  \\\n2263                 163                    11              0   \n3966                   0                    11              0   \n\n      Average of 5 highest WS seasons  Average of 5 highest BPM seasons  \\\n2263                            12.22                              4.86   \n3966                            -0.10                             -9.10   \n\n      Average of 5 highest VORP seasons  Height  \n2263                               5.34     7.0  \n3966                               0.00     7.0  ",
      "text/html": "<div>\n<style scoped>\n    .dataframe tbody tr th:only-of-type {\n        vertical-align: middle;\n    }\n\n    .dataframe tbody tr th {\n        vertical-align: top;\n    }\n\n    .dataframe thead th {\n        text-align: right;\n    }\n</style>\n<table border=\"1\" class=\"dataframe\">\n  <thead>\n    <tr style=\"text-align: right;\">\n      <th></th>\n      <th>player_id</th>\n      <th>player</th>\n      <th>hof</th>\n      <th>first_seas</th>\n      <th>last_seas</th>\n      <th>Leaderboard points</th>\n      <th>All-Star appearances</th>\n      <th>Championships</th>\n      <th>Average of 5 highest WS seasons</th>\n      <th>Average of 5 highest BPM seasons</th>\n      <th>Average of 5 highest VORP seasons</th>\n      <th>Height</th>\n    </tr>\n  </thead>\n  <tbody>\n    <tr>\n      <th>2263</th>\n      <td>2264</td>\n      <td>Patrick Ewing</td>\n      <td>1</td>\n      <td>1986</td>\n      <td>2002</td>\n      <td>163</td>\n      <td>11</td>\n      <td>0</td>\n      <td>12.22</td>\n      <td>4.86</td>\n      <td>5.34</td>\n      <td>7.0</td>\n    </tr>\n    <tr>\n      <th>3966</th>\n      <td>3967</td>\n      <td>Patrick Ewing</td>\n      <td>0</td>\n      <td>2011</td>\n      <td>2011</td>\n      <td>0</td>\n      <td>11</td>\n      <td>0</td>\n      <td>-0.10</td>\n      <td>-9.10</td>\n      <td>0.00</td>\n      <td>7.0</td>\n    </tr>\n  </tbody>\n</table>\n</div>"
     },
     "execution_count": 58,
     "metadata": {},
     "output_type": "execute_result"
    }
   ],
   "source": [
    "hof[hof['player']=='Patrick Ewing']"
   ]
  },
  {
   "cell_type": "code",
   "execution_count": 59,
   "id": "8adb2f90e0d39d7b",
   "metadata": {
    "ExecuteTime": {
     "end_time": "2023-12-09T15:45:55.168137200Z",
     "start_time": "2023-12-09T15:45:55.154668800Z"
    }
   },
   "outputs": [],
   "source": [
    "hof.drop(3966,inplace=True)"
   ]
  },
  {
   "cell_type": "code",
   "execution_count": 63,
   "id": "984bddfa18c4db23",
   "metadata": {
    "ExecuteTime": {
     "end_time": "2023-12-09T15:46:43.343844400Z",
     "start_time": "2023-12-09T15:46:42.763140900Z"
    }
   },
   "outputs": [
    {
     "name": "stderr",
     "output_type": "stream",
     "text": [
      "C:\\Users\\arxer\\anaconda3\\lib\\site-packages\\sklearn\\neighbors\\_classification.py:228: FutureWarning: Unlike other reduction functions (e.g. `skew`, `kurtosis`), the default behavior of `mode` typically preserves the axis it acts along. In SciPy 1.11.0, this behavior will change: the default value of `keepdims` will become False, the `axis` over which the statistic is taken will be eliminated, and the value None will no longer be accepted. Set `keepdims` to True or False to avoid this warning.\n",
      "  mode, _ = stats.mode(_y[neigh_ind, k], axis=1)\n"
     ]
    },
    {
     "name": "stdout",
     "output_type": "stream",
     "text": [
      "Logistic Regression\n",
      "[[908   2]\n",
      " [  9  27]]\n",
      "              precision    recall  f1-score   support\n",
      "\n",
      "           0       0.99      1.00      0.99       910\n",
      "           1       0.93      0.75      0.83        36\n",
      "\n",
      "    accuracy                           0.99       946\n",
      "   macro avg       0.96      0.87      0.91       946\n",
      "weighted avg       0.99      0.99      0.99       946\n",
      "\n",
      "Random Forest\n",
      "[[908   2]\n",
      " [ 11  25]]\n",
      "              precision    recall  f1-score   support\n",
      "\n",
      "           0       0.99      1.00      0.99       910\n",
      "           1       0.93      0.69      0.79        36\n",
      "\n",
      "    accuracy                           0.99       946\n",
      "   macro avg       0.96      0.85      0.89       946\n",
      "weighted avg       0.99      0.99      0.99       946\n",
      "\n",
      "K Nearest Neighbor\n",
      "[[899  11]\n",
      " [ 16  20]]\n",
      "              precision    recall  f1-score   support\n",
      "\n",
      "           0       0.98      0.99      0.99       910\n",
      "           1       0.65      0.56      0.60        36\n",
      "\n",
      "    accuracy                           0.97       946\n",
      "   macro avg       0.81      0.77      0.79       946\n",
      "weighted avg       0.97      0.97      0.97       946\n"
     ]
    }
   ],
   "source": [
    "young=hof[(hof['last_seas']>2014) & (hof['hof']==0)]\n",
    "old=hof[hof['last_seas']<=2014]\n",
    "X=old.drop(['first_seas','last_seas','hof','player','player_id'],axis=1)\n",
    "y=old['hof']\n",
    "X_pred=young.drop(['first_seas','last_seas','hof','player','player_id'],axis=1)\n",
    "y_pred=young['hof']\n",
    "X_train, X_test, y_train, y_test = train_test_split(X, y, test_size=0.25, random_state=42)\n",
    "\n",
    "knn = KNeighborsClassifier(n_neighbors=1)\n",
    "knn.fit(X_train,y_train)\n",
    "pred_knn = knn.predict(X_test)\n",
    "knn_prob=knn.predict_proba(X_pred)[:,-1]\n",
    "\n",
    "logmodel=LogisticRegression(max_iter=10000)\n",
    "logmodel.fit(X_train,y_train)\n",
    "pred_log=logmodel.predict(X_test)\n",
    "log_prob=logmodel.predict_proba(X_pred)[:,-1]\n",
    "\n",
    "rfc=RandomForestClassifier(n_estimators=200)\n",
    "rfc.fit(X_train,y_train)\n",
    "pred_rfc=rfc.predict(X_test)\n",
    "rfc_prob=rfc.predict_proba(X_pred)[:,-1]\n",
    "\n",
    "\n",
    "print('Logistic Regression')\n",
    "print(confusion_matrix(y_test,pred_log))\n",
    "print(classification_report(y_test,pred_log))\n",
    "\n",
    "print('Random Forest')\n",
    "print(confusion_matrix(y_test,pred_rfc))\n",
    "print(classification_report(y_test,pred_rfc))\n",
    "\n",
    "\n",
    "print('K Nearest Neighbor')\n",
    "print(confusion_matrix(y_test,pred_knn))\n",
    "print(classification_report(y_test,pred_knn))\n",
    "\n",
    "\n"
   ]
  },
  {
   "cell_type": "code",
   "execution_count": 64,
   "id": "94a827758dd288ba",
   "metadata": {
    "ExecuteTime": {
     "end_time": "2023-12-09T15:46:45.711711900Z",
     "start_time": "2023-12-09T15:46:45.683713600Z"
    }
   },
   "outputs": [],
   "source": [
    "res=pd.concat([X_pred,y_pred],axis=1)\n",
    "\n",
    "#res['log_pred']=pred_log\n",
    "res['log_prob']=log_prob\n",
    "\n",
    "#res['rfc_pred']=pred_rfc\n",
    "res['rfc_prob']=rfc_prob\n",
    "\n",
    "#res['knn_pred']=pred_knn\n",
    "res['knn_prob']=knn_prob\n",
    "\n",
    "res_final=pd.concat([res,hof['player']],axis=1)"
   ]
  },
  {
   "cell_type": "code",
   "execution_count": 65,
   "id": "5ba94541f772eac",
   "metadata": {
    "ExecuteTime": {
     "end_time": "2023-12-09T15:46:49.257683Z",
     "start_time": "2023-12-09T15:46:49.225286300Z"
    }
   },
   "outputs": [
    {
     "data": {
      "text/plain": "                   player  log_prob\n3462         LeBron James  1.000000\n3769         Kevin Durant  0.999834\n3584           Chris Paul  0.999587\n3902        Stephen Curry  0.998893\n3879         James Harden  0.996906\n...                   ...       ...\n4197          Royce White       NaN\n4204        Shane Edwards       NaN\n4209        Tony Mitchell       NaN\n4210        Tony Mitchell       NaN\n4217  Vítor Luiz Faverani       NaN\n\n[5158 rows x 2 columns]",
      "text/html": "<div>\n<style scoped>\n    .dataframe tbody tr th:only-of-type {\n        vertical-align: middle;\n    }\n\n    .dataframe tbody tr th {\n        vertical-align: top;\n    }\n\n    .dataframe thead th {\n        text-align: right;\n    }\n</style>\n<table border=\"1\" class=\"dataframe\">\n  <thead>\n    <tr style=\"text-align: right;\">\n      <th></th>\n      <th>player</th>\n      <th>log_prob</th>\n    </tr>\n  </thead>\n  <tbody>\n    <tr>\n      <th>3462</th>\n      <td>LeBron James</td>\n      <td>1.000000</td>\n    </tr>\n    <tr>\n      <th>3769</th>\n      <td>Kevin Durant</td>\n      <td>0.999834</td>\n    </tr>\n    <tr>\n      <th>3584</th>\n      <td>Chris Paul</td>\n      <td>0.999587</td>\n    </tr>\n    <tr>\n      <th>3902</th>\n      <td>Stephen Curry</td>\n      <td>0.998893</td>\n    </tr>\n    <tr>\n      <th>3879</th>\n      <td>James Harden</td>\n      <td>0.996906</td>\n    </tr>\n    <tr>\n      <th>...</th>\n      <td>...</td>\n      <td>...</td>\n    </tr>\n    <tr>\n      <th>4197</th>\n      <td>Royce White</td>\n      <td>NaN</td>\n    </tr>\n    <tr>\n      <th>4204</th>\n      <td>Shane Edwards</td>\n      <td>NaN</td>\n    </tr>\n    <tr>\n      <th>4209</th>\n      <td>Tony Mitchell</td>\n      <td>NaN</td>\n    </tr>\n    <tr>\n      <th>4210</th>\n      <td>Tony Mitchell</td>\n      <td>NaN</td>\n    </tr>\n    <tr>\n      <th>4217</th>\n      <td>Vítor Luiz Faverani</td>\n      <td>NaN</td>\n    </tr>\n  </tbody>\n</table>\n<p>5158 rows × 2 columns</p>\n</div>"
     },
     "execution_count": 65,
     "metadata": {},
     "output_type": "execute_result"
    }
   ],
   "source": [
    "final = res_final[['player','log_prob']]\n",
    "final.sort_values(by=['log_prob'],ascending=False)"
   ]
  },
  {
   "cell_type": "code",
   "execution_count": 66,
   "id": "d75e1c5c4b26c0d1",
   "metadata": {
    "ExecuteTime": {
     "end_time": "2023-12-09T15:46:58.300424500Z",
     "start_time": "2023-12-09T15:46:58.267535200Z"
    }
   },
   "outputs": [
    {
     "data": {
      "text/plain": "   Leaderboard points  All-Star appearances  Championships  \\\n0            0.007586              0.714343       0.572611   \n\n   Average of 5 highest WS seasons  Average of 5 highest BPM seasons  \\\n0                         0.284934                          0.081166   \n\n   Average of 5 highest VORP seasons    Height  \n0                          -0.266166 -0.355349  ",
      "text/html": "<div>\n<style scoped>\n    .dataframe tbody tr th:only-of-type {\n        vertical-align: middle;\n    }\n\n    .dataframe tbody tr th {\n        vertical-align: top;\n    }\n\n    .dataframe thead th {\n        text-align: right;\n    }\n</style>\n<table border=\"1\" class=\"dataframe\">\n  <thead>\n    <tr style=\"text-align: right;\">\n      <th></th>\n      <th>Leaderboard points</th>\n      <th>All-Star appearances</th>\n      <th>Championships</th>\n      <th>Average of 5 highest WS seasons</th>\n      <th>Average of 5 highest BPM seasons</th>\n      <th>Average of 5 highest VORP seasons</th>\n      <th>Height</th>\n    </tr>\n  </thead>\n  <tbody>\n    <tr>\n      <th>0</th>\n      <td>0.007586</td>\n      <td>0.714343</td>\n      <td>0.572611</td>\n      <td>0.284934</td>\n      <td>0.081166</td>\n      <td>-0.266166</td>\n      <td>-0.355349</td>\n    </tr>\n  </tbody>\n</table>\n</div>"
     },
     "execution_count": 66,
     "metadata": {},
     "output_type": "execute_result"
    }
   ],
   "source": [
    "pd.DataFrame(logmodel.coef_, columns=X_train.columns)"
   ]
  },
  {
   "cell_type": "code",
   "execution_count": 67,
   "id": "6b916c3bdf506d45",
   "metadata": {
    "ExecuteTime": {
     "end_time": "2023-12-09T15:47:19.538289900Z",
     "start_time": "2023-12-09T15:47:19.513292700Z"
    }
   },
   "outputs": [
    {
     "data": {
      "text/plain": "0.9848484848484849"
     },
     "execution_count": 67,
     "metadata": {},
     "output_type": "execute_result"
    }
   ],
   "source": [
    "logmodel.score(X_train,y_train)"
   ]
  }
 ],
 "metadata": {
  "kernelspec": {
   "display_name": "Python 3 (ipykernel)",
   "language": "python",
   "name": "python3"
  },
  "language_info": {
   "codemirror_mode": {
    "name": "ipython",
    "version": 3
   },
   "file_extension": ".py",
   "mimetype": "text/x-python",
   "name": "python",
   "nbconvert_exporter": "python",
   "pygments_lexer": "ipython3",
   "version": "3.11.4"
  }
 },
 "nbformat": 4,
 "nbformat_minor": 5
}
