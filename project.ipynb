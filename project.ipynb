{
 "cells": [
  {
   "cell_type": "code",
   "execution_count": 1,
   "id": "initial_id",
   "metadata": {
    "ExecuteTime": {
     "end_time": "2023-12-09T15:23:38.447355100Z",
     "start_time": "2023-12-09T15:23:38.436296600Z"
    }
   },
   "outputs": [
    {
     "data": {
      "text/html": [
       "<img src=\"nba-karl-malone.gif\"/>"
      ],
      "text/plain": [
       "<IPython.core.display.Image object>"
      ]
     },
     "execution_count": 1,
     "metadata": {},
     "output_type": "execute_result"
    }
   ],
   "source": [
    "import numpy as np\n",
    "from IPython.display import Image\n",
    "import pandas as pd\n",
    "from sklearn.model_selection import train_test_split\n",
    "from sklearn.metrics import classification_report, confusion_matrix\n",
    "from sklearn.linear_model import LogisticRegression\n",
    "from sklearn.ensemble import RandomForestClassifier\n",
    "from sklearn.neighbors import KNeighborsClassifier\n",
    "Image(url='nba-karl-malone.gif')"
   ]
  },
  {
   "cell_type": "code",
   "execution_count": 2,
   "id": "eb69cfbdae81afcc",
   "metadata": {
    "ExecuteTime": {
     "end_time": "2023-12-09T15:23:41.346196Z",
     "start_time": "2023-12-09T15:23:41.110283900Z"
    }
   },
   "outputs": [],
   "source": [
    "player_totals=pd.read_csv('./data/Player Totals.csv')\n",
    "player_season_info=pd.read_csv('./data/Player Season Info.csv')\n",
    "player_career_info=pd.read_csv('./data/Player Career Info.csv')\n",
    "player_award_shares=pd.read_csv('./data/Player Award Shares.csv')\n",
    "all_star=pd.read_csv('./data/All-Star Selections.csv')\n",
    "advanced=pd.read_csv('./data/Advanced.csv')\n",
    "end_of_season=pd.read_csv('./data/End of Season Teams.csv')\n",
    "\n",
    "hof=player_career_info.drop(['birth_year','num_seasons'],axis=1)\n",
    "player_names_and_seasons=hof[['player','first_seas','last_seas','player_id']]"
   ]
  },
  {
   "cell_type": "code",
   "execution_count": 3,
   "id": "8b5345ea3de68e9c",
   "metadata": {
    "ExecuteTime": {
     "end_time": "2023-12-09T15:23:43.553923700Z",
     "start_time": "2023-12-09T15:23:43.263176900Z"
    }
   },
   "outputs": [],
   "source": [
    "seasons = np.flip(player_totals.season.unique())\n",
    "seasons_leaderboards = {}\n",
    "for season in seasons:\n",
    "    season_top10s = {'pts': player_totals[player_totals['season'] == season].sort_values(by=['pts']).tail(10),\n",
    "                     'reb': player_totals[player_totals['season'] == season].sort_values(by=['trb']).tail(10),\n",
    "                     'ast': player_totals[player_totals['season'] == season].sort_values(by=['ast']).tail(10),\n",
    "                     'min': player_totals[player_totals['season'] == season].sort_values(by=['mp']).tail(10),\n",
    "                     'stl': player_totals[player_totals['season'] == season].sort_values(by=['stl']).tail(10),\n",
    "                     'blk': player_totals[player_totals['season'] == season].sort_values(by=['blk']).tail(10)}\n",
    "    seasons_leaderboards[season] = season_top10s"
   ]
  },
  {
   "cell_type": "code",
   "execution_count": null,
   "id": "efc7de314d7795c7",
   "metadata": {
    "ExecuteTime": {
     "end_time": "2023-12-09T15:28:45.263074600Z",
     "start_time": "2023-12-09T15:23:49.213180800Z"
    }
   },
   "outputs": [
    {
     "name": "stdout",
     "output_type": "stream",
     "text": [
      "0\n",
      "250\n",
      "500\n",
      "750\n",
      "1000\n",
      "1250\n",
      "1500\n",
      "1750\n",
      "2000\n",
      "2250\n",
      "2500\n",
      "2750\n",
      "3000\n",
      "3250\n",
      "3500\n",
      "3750\n",
      "4000\n"
     ]
    }
   ],
   "source": [
    "leaderboard_points=[]\n",
    "for i in range(len(player_names_and_seasons)):\n",
    "    x=0\n",
    "    if i%250==0:\n",
    "        print(i)\n",
    "    for season in range(player_names_and_seasons.iloc[i].first_seas,player_names_and_seasons.iloc[i].last_seas+1):\n",
    "        top10_pts = seasons_leaderboards[season]['pts']\n",
    "        top10_reb = seasons_leaderboards[season]['reb']\n",
    "        top10_ast = seasons_leaderboards[season]['ast']\n",
    "        top10_min = seasons_leaderboards[season]['min']\n",
    "        top10_stl = seasons_leaderboards[season]['stl']\n",
    "        top10_blk = seasons_leaderboards[season]['blk']\n",
    "        for j in range(9,-1,-1):\n",
    "            if top10_pts.iloc[j].player_id == player_names_and_seasons.iloc[i].player_id:\n",
    "                x+=(5 + j/2)\n",
    "            if top10_reb.iloc[j].player_id == player_names_and_seasons.iloc[i].player_id:\n",
    "                x+=(5 + j/2)\n",
    "            if top10_ast.iloc[j].player_id == player_names_and_seasons.iloc[i].player_id:\n",
    "                x+=(5 + j/2)\n",
    "            if top10_min.iloc[j].player_id == player_names_and_seasons.iloc[i].player_id:\n",
    "                x+=(5 + j/2)\n",
    "            if top10_stl.iloc[j].player_id == player_names_and_seasons.iloc[i].player_id:\n",
    "                x+=(5 + j/2)\n",
    "            if top10_blk.iloc[j].player_id == player_names_and_seasons.iloc[i].player_id:\n",
    "                x+=(5 + j/2)\n",
    "    leaderboard_points.append(x)\n",
    "    \n",
    "hof['Leaderboard points']=leaderboard_points        "
   ]
  },
  {
   "cell_type": "code",
   "execution_count": null,
   "id": "b1ee8b941c3066b3",
   "metadata": {
    "ExecuteTime": {
     "end_time": "2023-12-09T15:28:46.905599300Z",
     "start_time": "2023-12-09T15:28:45.266064200Z"
    }
   },
   "outputs": [],
   "source": [
    "allstar=[]\n",
    "for index, player in player_names_and_seasons.iterrows():\n",
    "    x=0\n",
    "    all_stars=all_star[all_star.player==player.player]\n",
    "    for index2, all_star in all_stars.iterrows():\n",
    "        if all_star.season >= player.first_seas and all_star.season <= player.last_seas:\n",
    "            x = x + 1\n",
    "            \n",
    "    allstar.append(x)\n",
    "\n",
    "hof['All-Star appearances']=allstar        "
   ]
  },
  {
   "cell_type": "code",
   "execution_count": null,
   "id": "f2aa4bfbc9546183",
   "metadata": {
    "ExecuteTime": {
     "end_time": "2023-12-09T15:28:46.944216100Z",
     "start_time": "2023-12-09T15:28:46.908589800Z"
    }
   },
   "outputs": [],
   "source": [
    "clean=pd.read_csv('./data/NBA_players_clean.csv')\n",
    "clean.columns"
   ]
  },
  {
   "cell_type": "code",
   "execution_count": null,
   "id": "ed2947bfb3744a1e",
   "metadata": {
    "ExecuteTime": {
     "end_time": "2023-12-09T15:28:46.954853700Z",
     "start_time": "2023-12-09T15:28:46.940160200Z"
    }
   },
   "outputs": [],
   "source": [
    "clean['Player']"
   ]
  },
  {
   "cell_type": "code",
   "execution_count": null,
   "id": "768bcac94febbf66",
   "metadata": {
    "ExecuteTime": {
     "end_time": "2023-12-09T15:28:46.998437200Z",
     "start_time": "2023-12-09T15:28:46.955858800Z"
    }
   },
   "outputs": [],
   "source": [
    "def cut_string(str):\n",
    "    if '*' in str:\n",
    "        return str.split('*')[0]\n",
    "    else:\n",
    "        return str\n",
    "clean['player']=clean['Player'].apply(lambda x:cut_string(x))"
   ]
  },
  {
   "cell_type": "code",
   "execution_count": null,
   "id": "a6ef3b9a50e76983",
   "metadata": {
    "ExecuteTime": {
     "end_time": "2023-12-09T15:28:47.010941800Z",
     "start_time": "2023-12-09T15:28:46.970336100Z"
    }
   },
   "outputs": [],
   "source": [
    "clean['player']"
   ]
  },
  {
   "cell_type": "code",
   "execution_count": null,
   "id": "e23965194bfdae90",
   "metadata": {
    "ExecuteTime": {
     "end_time": "2023-12-09T15:28:49.680859Z",
     "start_time": "2023-12-09T15:28:46.987961800Z"
    }
   },
   "outputs": [],
   "source": [
    "rings_list=[]\n",
    "for index, player in player_names_and_seasons.iterrows():\n",
    "    x=0\n",
    "    clean_players=clean[clean.player==player.player]\n",
    "    for index2, clean_player in clean_players.iterrows():\n",
    "        if clean_player.From == player.first_seas and clean_player.To <= player.last_seas:\n",
    "            x = clean_player.Championships\n",
    "\n",
    "    rings_list.append(x)    \n",
    "            \n",
    "hof['Championships']=rings_list     "
   ]
  },
  {
   "cell_type": "code",
   "execution_count": null,
   "id": "8a2430f765f36397",
   "metadata": {
    "ExecuteTime": {
     "end_time": "2023-12-09T15:28:55.084308200Z",
     "start_time": "2023-12-09T15:28:49.682852700Z"
    }
   },
   "outputs": [],
   "source": [
    "best5WSAverage=[]\n",
    "for i in player_names_and_seasons.player_id:\n",
    "    best5WSAverage.append(advanced[advanced['player_id']==i].nlargest(5, 'ws')['ws'].mean())\n",
    "hof['Average of 5 highest WS seasons']=best5WSAverage\n"
   ]
  },
  {
   "cell_type": "code",
   "execution_count": null,
   "id": "1ca312c6",
   "metadata": {
    "ExecuteTime": {
     "end_time": "2023-12-09T15:29:00.408725100Z",
     "start_time": "2023-12-09T15:28:55.088295600Z"
    }
   },
   "outputs": [],
   "source": [
    "best5BPMAverage=[]\n",
    "for i in player_names_and_seasons.player_id:\n",
    "    best5BPMAverage.append(advanced[advanced['player_id']==i].nlargest(5, 'bpm')['bpm'].mean())\n",
    "hof['Average of 5 highest BPM seasons']=best5BPMAverage"
   ]
  },
  {
   "cell_type": "code",
   "execution_count": null,
   "id": "fbe18b92",
   "metadata": {
    "ExecuteTime": {
     "end_time": "2023-12-09T15:29:06.030679600Z",
     "start_time": "2023-12-09T15:29:00.413233200Z"
    }
   },
   "outputs": [],
   "source": [
    "best5VORPAverage=[]\n",
    "for i in player_names_and_seasons.player_id:\n",
    "    best5VORPAverage.append(advanced[advanced['player_id']==i].nlargest(5, 'vorp')['vorp'].mean())\n",
    "hof['Average of 5 highest VORP seasons']=best5VORPAverage"
   ]
  },
  {
   "cell_type": "code",
   "execution_count": null,
   "id": "74de1cdb96842b5b",
   "metadata": {
    "ExecuteTime": {
     "end_time": "2023-12-09T15:29:08.849415Z",
     "start_time": "2023-12-09T15:29:06.033669900Z"
    }
   },
   "outputs": [],
   "source": [
    "heights=[]\n",
    "\n",
    "for index, player in player_names_and_seasons.iterrows():\n",
    "    x=clean.Height.mean()\n",
    "    clean_players=clean[clean.player==player.player]\n",
    "    for index2, clean_player in clean_players.iterrows():\n",
    "        if clean_player.From == player.first_seas and clean_player.To <= player.last_seas:\n",
    "            if not clean_player.Height.empty: \n",
    "                x = clean_player.Height\n",
    "    \n",
    "    heights.append(x)    \n",
    "            \n",
    "hof['Height']=heights\n",
    "\n",
    "\n",
    "weights=[]\n",
    "\n",
    "for index, player in player_names_and_seasons.iterrows():\n",
    "    x=clean.Wt.mean()\n",
    "    clean_players=clean[clean.player==player.player]\n",
    "    for index2, clean_player in clean_players.iterrows():\n",
    "        if clean_player.From == player.first_seas and clean_player.To <= player.last_seas:\n",
    "            if not clean_player.Wt.empty: \n",
    "                x = clean_player.Wt\n",
    "    \n",
    "    weights.append(x)    \n",
    "            \n",
    "hof['Weight']=heights\n"
   ]
  },
  {
   "cell_type": "code",
   "execution_count": null,
   "id": "9e323cf3e65213ed",
   "metadata": {
    "ExecuteTime": {
     "end_time": "2023-12-09T15:29:08.866969800Z",
     "start_time": "2023-12-09T15:29:08.851674300Z"
    }
   },
   "outputs": [],
   "source": [
    "hof.isna().sum()"
   ]
  },
  {
   "cell_type": "code",
   "execution_count": null,
   "id": "c85b31ce8ce69da7",
   "metadata": {
    "ExecuteTime": {
     "end_time": "2023-12-09T15:29:08.892605700Z",
     "start_time": "2023-12-09T15:29:08.870150900Z"
    }
   },
   "outputs": [],
   "source": [
    "hof['hof'] = hof['hof'].astype(int)"
   ]
  },
  {
   "cell_type": "code",
   "execution_count": null,
   "id": "e284ee8c96404176",
   "metadata": {
    "ExecuteTime": {
     "end_time": "2023-12-09T15:29:08.905183100Z",
     "start_time": "2023-12-09T15:29:08.891452700Z"
    }
   },
   "outputs": [],
   "source": [
    "hof['Average of 5 highest WS seasons'] = hof['Average of 5 highest WS seasons'].fillna(0)\n",
    "hof['Average of 5 highest BPM seasons'] = hof['Average of 5 highest BPM seasons'].fillna(0)\n",
    "hof['Average of 5 highest VORP seasons'] = hof['Average of 5 highest VORP seasons'].fillna(0)\n"
   ]
  },
  {
   "cell_type": "code",
   "execution_count": null,
   "id": "418f2a3ef325fbda",
   "metadata": {
    "ExecuteTime": {
     "end_time": "2023-12-09T15:29:08.946577900Z",
     "start_time": "2023-12-09T15:29:08.900200100Z"
    }
   },
   "outputs": [],
   "source": [
    "hof[hof['player']=='Patrick Ewing']"
   ]
  },
  {
   "cell_type": "code",
   "execution_count": null,
   "id": "8adb2f90e0d39d7b",
   "metadata": {
    "ExecuteTime": {
     "end_time": "2023-12-09T15:45:55.168137200Z",
     "start_time": "2023-12-09T15:45:55.154668800Z"
    }
   },
   "outputs": [],
   "source": [
    "hof.drop(3966,inplace=True)"
   ]
  },
  {
   "cell_type": "code",
   "execution_count": null,
   "id": "984bddfa18c4db23",
   "metadata": {
    "ExecuteTime": {
     "end_time": "2023-12-09T15:46:43.343844400Z",
     "start_time": "2023-12-09T15:46:42.763140900Z"
    }
   },
   "outputs": [],
   "source": [
    "young=hof[(hof['last_seas']>2014) & (hof['hof']==0)]\n",
    "old=hof[hof['last_seas']<=2014]\n",
    "X=old.drop(['first_seas','last_seas','hof','player','player_id'],axis=1)\n",
    "y=old['hof']\n",
    "X_pred=young.drop(['first_seas','last_seas','hof','player','player_id'],axis=1)\n",
    "y_pred=young['hof']\n",
    "X_train, X_test, y_train, y_test = train_test_split(X, y, test_size=0.25, random_state=42)\n",
    "\n",
    "knn = KNeighborsClassifier(n_neighbors=1)\n",
    "knn.fit(X_train,y_train)\n",
    "pred_knn = knn.predict(X_test)\n",
    "knn_prob=knn.predict_proba(X_pred)[:,-1]\n",
    "\n",
    "logmodel=LogisticRegression(max_iter=10000)\n",
    "logmodel.fit(X_train,y_train)\n",
    "pred_log=logmodel.predict(X_test)\n",
    "log_prob=logmodel.predict_proba(X_pred)[:,-1]\n",
    "\n",
    "rfc=RandomForestClassifier(n_estimators=200)\n",
    "rfc.fit(X_train,y_train)\n",
    "pred_rfc=rfc.predict(X_test)\n",
    "rfc_prob=rfc.predict_proba(X_pred)[:,-1]\n",
    "\n",
    "\n",
    "print('Logistic Regression')\n",
    "print(confusion_matrix(y_test,pred_log))\n",
    "print(classification_report(y_test,pred_log))\n",
    "\n",
    "print('Random Forest')\n",
    "print(confusion_matrix(y_test,pred_rfc))\n",
    "print(classification_report(y_test,pred_rfc))\n",
    "\n",
    "\n",
    "print('K Nearest Neighbor')\n",
    "print(confusion_matrix(y_test,pred_knn))\n",
    "print(classification_report(y_test,pred_knn))\n",
    "\n",
    "\n"
   ]
  },
  {
   "cell_type": "code",
   "execution_count": null,
   "id": "94a827758dd288ba",
   "metadata": {
    "ExecuteTime": {
     "end_time": "2023-12-09T15:46:45.711711900Z",
     "start_time": "2023-12-09T15:46:45.683713600Z"
    }
   },
   "outputs": [],
   "source": [
    "res=pd.concat([X_pred,y_pred],axis=1)\n",
    "\n",
    "#res['log_pred']=pred_log\n",
    "res['log_prob']=log_prob\n",
    "\n",
    "#res['rfc_pred']=pred_rfc\n",
    "res['rfc_prob']=rfc_prob\n",
    "\n",
    "#res['knn_pred']=pred_knn\n",
    "res['knn_prob']=knn_prob\n",
    "\n",
    "res_final=pd.concat([res,hof['player']],axis=1)"
   ]
  },
  {
   "cell_type": "code",
   "execution_count": null,
   "id": "5ba94541f772eac",
   "metadata": {
    "ExecuteTime": {
     "end_time": "2023-12-09T15:46:49.257683Z",
     "start_time": "2023-12-09T15:46:49.225286300Z"
    }
   },
   "outputs": [],
   "source": [
    "final = res_final[['player','log_prob']]\n",
    "final.sort_values(by=['log_prob'],ascending=False)"
   ]
  },
  {
   "cell_type": "code",
   "execution_count": null,
   "id": "d75e1c5c4b26c0d1",
   "metadata": {
    "ExecuteTime": {
     "end_time": "2023-12-09T15:46:58.300424500Z",
     "start_time": "2023-12-09T15:46:58.267535200Z"
    }
   },
   "outputs": [],
   "source": [
    "pd.DataFrame(logmodel.coef_, columns=X_train.columns)"
   ]
  },
  {
   "cell_type": "code",
   "execution_count": null,
   "id": "6b916c3bdf506d45",
   "metadata": {
    "ExecuteTime": {
     "end_time": "2023-12-09T15:47:19.538289900Z",
     "start_time": "2023-12-09T15:47:19.513292700Z"
    }
   },
   "outputs": [],
   "source": [
    "logmodel.score(X_train,y_train)"
   ]
  }
 ],
 "metadata": {
  "kernelspec": {
   "display_name": "Python 3 (ipykernel)",
   "language": "python",
   "name": "python3"
  },
  "language_info": {
   "codemirror_mode": {
    "name": "ipython",
    "version": 3
   },
   "file_extension": ".py",
   "mimetype": "text/x-python",
   "name": "python",
   "nbconvert_exporter": "python",
   "pygments_lexer": "ipython3",
   "version": "3.11.4"
  }
 },
 "nbformat": 4,
 "nbformat_minor": 5
}
