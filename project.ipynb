{
 "cells": [
  {
   "cell_type": "code",
   "execution_count": 1,
   "id": "initial_id",
   "metadata": {
    "ExecuteTime": {
     "end_time": "2023-12-10T20:42:56.915389300Z",
     "start_time": "2023-12-10T20:42:56.892016700Z"
    }
   },
   "outputs": [
    {
     "data": {
      "text/html": [
       "<img src=\"nba-karl-malone.gif\"/>"
      ],
      "text/plain": [
       "<IPython.core.display.Image object>"
      ]
     },
     "execution_count": 1,
     "metadata": {},
     "output_type": "execute_result"
    }
   ],
   "source": [
    "import numpy as np\n",
    "from IPython.display import Image\n",
    "import pandas as pd\n",
    "from sklearn.model_selection import train_test_split\n",
    "from sklearn.metrics import classification_report, confusion_matrix\n",
    "from sklearn.linear_model import LogisticRegression\n",
    "from sklearn.ensemble import RandomForestClassifier\n",
    "from sklearn.neighbors import KNeighborsClassifier\n",
    "Image(url='nba-karl-malone.gif')"
   ]
  },
  {
   "cell_type": "code",
   "execution_count": 2,
   "id": "d1aefb35ad980444",
   "metadata": {
    "ExecuteTime": {
     "end_time": "2023-12-10T20:42:59.867783600Z",
     "start_time": "2023-12-10T20:42:59.624686300Z"
    }
   },
   "outputs": [],
   "source": [
    "player_totals=pd.read_csv('./data/Player Totals.csv')\n",
    "player_season_info=pd.read_csv('./data/Player Season Info.csv')\n",
    "player_career_info=pd.read_csv('./data/Player Career Info.csv')\n",
    "player_award_shares=pd.read_csv('./data/Player Award Shares.csv')\n",
    "all_star=pd.read_csv('./data/All-Star Selections.csv')\n",
    "advanced=pd.read_csv('./data/Advanced.csv')\n",
    "end_of_season=pd.read_csv('./data/End of Season Teams.csv')\n",
    "\n",
    "hof=player_career_info.drop(['birth_year','num_seasons'],axis=1)\n",
    "player_names_and_seasons=hof[['player','first_seas','last_seas','player_id']]"
   ]
  },
  {
   "cell_type": "code",
   "execution_count": 3,
   "id": "219755931abc6fff",
   "metadata": {
    "ExecuteTime": {
     "end_time": "2023-12-10T20:43:02.114724700Z",
     "start_time": "2023-12-10T20:43:01.424928200Z"
    }
   },
   "outputs": [],
   "source": [
    "seasons = np.flip(player_totals.season.unique())\n",
    "seasons_leaderboards = {}\n",
    "for season in seasons:\n",
    "    season_top10s = {'pts': player_totals[player_totals['season'] == season].sort_values(by=['pts']).tail(10),\n",
    "                     'reb': player_totals[player_totals['season'] == season].sort_values(by=['trb']).tail(10),\n",
    "                     'ast': player_totals[player_totals['season'] == season].sort_values(by=['ast']).tail(10),\n",
    "                     'min': player_totals[player_totals['season'] == season].sort_values(by=['mp']).tail(10),\n",
    "                     'stl': player_totals[player_totals['season'] == season].sort_values(by=['stl']).tail(10),\n",
    "                     'blk': player_totals[player_totals['season'] == season].sort_values(by=['blk']).tail(10)}\n",
    "    seasons_leaderboards[season] = season_top10s"
   ]
  },
  {
   "cell_type": "code",
   "execution_count": 4,
   "id": "5d6bebe4191fc8f9",
   "metadata": {
    "ExecuteTime": {
     "end_time": "2023-12-10T19:45:45.557703200Z",
     "start_time": "2023-12-10T19:38:54.841534600Z"
    }
   },
   "outputs": [
    {
     "name": "stdout",
     "output_type": "stream",
     "text": [
      "0\n",
      "250\n",
      "500\n",
      "750\n",
      "1000\n",
      "1250\n",
      "1500\n",
      "1750\n",
      "2000\n",
      "2250\n",
      "2500\n",
      "2750\n",
      "3000\n",
      "3250\n",
      "3500\n",
      "3750\n",
      "4000\n",
      "4250\n",
      "4500\n",
      "4750\n",
      "5000\n"
     ]
    }
   ],
   "source": [
    "leaderboard_points=[]\n",
    "for i in range(len(player_names_and_seasons)):\n",
    "    x=0\n",
    "    if i%250==0:\n",
    "        print(i)\n",
    "    for season in range(player_names_and_seasons.iloc[i].first_seas,player_names_and_seasons.iloc[i].last_seas+1):\n",
    "        top10_pts = seasons_leaderboards[season]['pts']\n",
    "        top10_reb = seasons_leaderboards[season]['reb']\n",
    "        top10_ast = seasons_leaderboards[season]['ast']\n",
    "        top10_min = seasons_leaderboards[season]['min']\n",
    "        top10_stl = seasons_leaderboards[season]['stl']\n",
    "        top10_blk = seasons_leaderboards[season]['blk']\n",
    "        for j in range(9,-1,-1):\n",
    "            if top10_pts.iloc[j].player_id == player_names_and_seasons.iloc[i].player_id:\n",
    "                x+=(5 + j/2)\n",
    "            if top10_reb.iloc[j].player_id == player_names_and_seasons.iloc[i].player_id:\n",
    "                x+=(5 + j/2)\n",
    "            if top10_ast.iloc[j].player_id == player_names_and_seasons.iloc[i].player_id:\n",
    "                x+=(5 + j/2)\n",
    "            if top10_min.iloc[j].player_id == player_names_and_seasons.iloc[i].player_id:\n",
    "                x+=(5 + j/2)\n",
    "            if top10_stl.iloc[j].player_id == player_names_and_seasons.iloc[i].player_id:\n",
    "                x+=(5 + j/2)\n",
    "            if top10_blk.iloc[j].player_id == player_names_and_seasons.iloc[i].player_id:\n",
    "                x+=(5 + j/2)\n",
    "    leaderboard_points.append(x)\n",
    "    \n",
    "hof['Leaderboard points']=leaderboard_points        "
   ]
  },
  {
   "cell_type": "code",
   "execution_count": 5,
   "id": "bf07fea208fea653",
   "metadata": {
    "ExecuteTime": {
     "end_time": "2023-12-10T20:43:12.057204100Z",
     "start_time": "2023-12-10T20:43:12.031759100Z"
    }
   },
   "outputs": [
    {
     "data": {
      "text/plain": [
       "Index(['Player', 'From', 'To', 'Years', 'Pos', 'Ht', 'Height', 'Wt', 'G',\n",
       "       'PTS', 'TRB', 'AST', 'FG%', 'FG3%', 'FT%', 'eFG%', 'PER', 'WS',\n",
       "       'All Star', 'All NBA', 'All ABA', 'All Rookie', 'All Defensive',\n",
       "       'BLK Champ', 'STL Champ', 'TRB Champ', 'AST Champ', 'Scoring Champ',\n",
       "       'Most Improved', 'Sixth Man', 'DPOY', 'ROY', 'AS MVP', 'CF MVP',\n",
       "       'Finals MVP', 'MVP', 'Championships', 'NBA 75 Team',\n",
       "       'ABA All-Time Team'],\n",
       "      dtype='object')"
      ]
     },
     "execution_count": 5,
     "metadata": {},
     "output_type": "execute_result"
    }
   ],
   "source": [
    "clean=pd.read_csv('./data/NBA_players_clean.csv')\n",
    "clean.columns"
   ]
  },
  {
   "cell_type": "code",
   "execution_count": 6,
   "id": "e00ed6bd99b4efce",
   "metadata": {
    "ExecuteTime": {
     "end_time": "2023-12-10T20:43:14.062474500Z",
     "start_time": "2023-12-10T20:43:14.029583300Z"
    }
   },
   "outputs": [
    {
     "data": {
      "text/plain": [
       "0             Alaa Abdelnaby\n",
       "1            Zaid Abdul-Aziz\n",
       "2       Kareem Abdul-Jabbar*\n",
       "3         Mahmoud Abdul-Rauf\n",
       "4          Tariq Abdul-Wahad\n",
       "                ...         \n",
       "5018              Ante Žižić\n",
       "5019                Jim Zoet\n",
       "5020               Bill Zopf\n",
       "5021             Ivica Zubac\n",
       "5022              Matt Zunic\n",
       "Name: Player, Length: 5023, dtype: object"
      ]
     },
     "execution_count": 6,
     "metadata": {},
     "output_type": "execute_result"
    }
   ],
   "source": [
    "clean['Player']"
   ]
  },
  {
   "cell_type": "code",
   "execution_count": 7,
   "id": "ce72208ed952b429",
   "metadata": {
    "ExecuteTime": {
     "end_time": "2023-12-10T20:43:14.625085800Z",
     "start_time": "2023-12-10T20:43:14.592133700Z"
    }
   },
   "outputs": [],
   "source": [
    "def cut_string(str):\n",
    "    if '*' in str:\n",
    "        return str.split('*')[0]\n",
    "    else:\n",
    "        return str\n",
    "clean['player']=clean['Player'].apply(lambda x:cut_string(x))"
   ]
  },
  {
   "cell_type": "code",
   "execution_count": 8,
   "id": "516af05504656f43",
   "metadata": {
    "ExecuteTime": {
     "end_time": "2023-12-10T20:43:15.975968900Z",
     "start_time": "2023-12-10T20:43:15.962017600Z"
    }
   },
   "outputs": [
    {
     "data": {
      "text/plain": [
       "0            Alaa Abdelnaby\n",
       "1           Zaid Abdul-Aziz\n",
       "2       Kareem Abdul-Jabbar\n",
       "3        Mahmoud Abdul-Rauf\n",
       "4         Tariq Abdul-Wahad\n",
       "               ...         \n",
       "5018             Ante Žižić\n",
       "5019               Jim Zoet\n",
       "5020              Bill Zopf\n",
       "5021            Ivica Zubac\n",
       "5022             Matt Zunic\n",
       "Name: player, Length: 5023, dtype: object"
      ]
     },
     "execution_count": 8,
     "metadata": {},
     "output_type": "execute_result"
    }
   ],
   "source": [
    "clean['player']"
   ]
  },
  {
   "cell_type": "code",
   "execution_count": 9,
   "id": "37d09722",
   "metadata": {},
   "outputs": [],
   "source": [
    "career_stats = {\n",
    "    'Height': 'height',\n",
    "    'Wt': 'weight',\n",
    "    'G': 'games',\n",
    "    'PTS': 'points',\n",
    "    'TRB': 'total rebounds',\n",
    "    'AST': 'total assists',\n",
    "    'FG%': 'field goal percentage',\n",
    "    'FG3%': '3-point field goal percentage',\n",
    "    'FT%': 'free throw percentage',\n",
    "    'eFG%': 'effective field goal percentage',\n",
    "    'All Star': 'all star selections',\n",
    "    'All NBA': 'all NBA selections',\n",
    "    'All ABA': 'all ABA selections',\n",
    "    'All Rookie': 'all rookie team selections',\n",
    "    'All Defensive': 'all defensive team selections',\n",
    "    'Most Improved': 'most improved player of the year wins',\n",
    "    'Sixth Man': 'sixth man of the year wins',\n",
    "    'DPOY': 'defensive player of the year wins',\n",
    "    'ROY': 'rookie of the year wins',\n",
    "    'AS MVP': 'all star game MVP wins',\n",
    "    'CF MVP': 'conference finals MVP wins',\n",
    "    'Finals MVP': 'finals MVP wins',\n",
    "    'MVP': 'most valuable player of the year wins',\n",
    "    'Championships': 'championships'\n",
    "}\n",
    "\n",
    "for career_stat in career_stats:\n",
    "    counts = []\n",
    "\n",
    "    for index, player in player_names_and_seasons.iterrows():\n",
    "        count = 0\n",
    "    \n",
    "        clean_players=clean[clean.player==player.player]\n",
    "\n",
    "        for index2, clean_player in clean_players.iterrows():\n",
    "            if clean_player.From == player.first_seas and clean_player.To <= player.last_seas:\n",
    "                count = clean_player[career_stat]\n",
    "            \n",
    "        counts.append(count)\n",
    "\n",
    "    colName = career_stats[career_stat]\n",
    "    hof[colName] = counts"
   ]
  },
  {
   "cell_type": "code",
   "execution_count": 10,
   "id": "226c22f6",
   "metadata": {},
   "outputs": [],
   "source": [
    "advanced_stat_cols = {\n",
    "    'vorp': 'value over replacement player',\n",
    "    'bpm': 'box plus minus',\n",
    "    'dbpm': 'defensive box plus minus',\n",
    "    'obpm': 'offensive box plus minus',\n",
    "    'ws_48': 'win shares per 48 minutes',\n",
    "    'ws': 'win shares',\n",
    "    'dws': 'defensive win shares',\n",
    "    'ows': 'offensive win shares',\n",
    "    'usg_percent': 'usage percentage',\n",
    "    'tov_percent': 'turnover percentage',\n",
    "    'blk_percent': 'block percentage',\n",
    "    'stl_percent': 'steal percentage',\n",
    "    'ast_percent': 'assist percentage',\n",
    "    'trb_percent': 'total rebounds percentage',\n",
    "    'drb_percent': 'defensive rebounds percentage',\n",
    "    'orb_percent': 'offensive rebounds percentage',\n",
    "    'f_tr': 'free throw rate',\n",
    "    'x3p_ar': 'three point attempt rate',\n",
    "    'ts_percent': 'true shooting percentage',\n",
    "    'per': 'player efficiency rating'\n",
    "}\n",
    "\n",
    "for stat in advanced_stat_cols:\n",
    "    best5Avgs = []\n",
    "\n",
    "    for player in player_names_and_seasons.player_id:\n",
    "        best5Avgs.append(advanced[advanced['player_id']==player].nlargest(5, stat)[stat].mean())\n",
    "\n",
    "    columnName = 'Average of 5 highest {col} seasons'.format(col = advanced_stat_cols[stat])\n",
    "    hof[columnName]=best5Avgs\n",
    "\n",
    "    hof[columnName] = hof[columnName].fillna(hof[columnName].mean())\n",
    "\n"
   ]
  },
  {
   "cell_type": "code",
   "execution_count": 11,
   "id": "12ffbfbf76d124b3",
   "metadata": {
    "ExecuteTime": {
     "end_time": "2023-12-10T19:46:53.298939600Z",
     "start_time": "2023-12-10T19:46:53.246104700Z"
    }
   },
   "outputs": [
    {
     "data": {
      "text/plain": [
       "player_id                                                     0\n",
       "player                                                        0\n",
       "hof                                                           0\n",
       "first_seas                                                    0\n",
       "last_seas                                                     0\n",
       "Leaderboard points                                            0\n",
       "height                                                        0\n",
       "weight                                                        0\n",
       "games                                                         0\n",
       "points                                                        0\n",
       "total rebounds                                                0\n",
       "total assists                                                 0\n",
       "field goal percentage                                         0\n",
       "3-point field goal percentage                                 0\n",
       "free throw percentage                                         0\n",
       "effective field goal percentage                               0\n",
       "all star selections                                           0\n",
       "all NBA selections                                            0\n",
       "all ABA selections                                            0\n",
       "all rookie team selections                                    0\n",
       "all defensive team selections                                 0\n",
       "most improved player of the year wins                         0\n",
       "sixth man of the year wins                                    0\n",
       "defensive player of the year wins                             0\n",
       "rookie of the year wins                                       0\n",
       "all star game MVP wins                                        0\n",
       "conference finals MVP wins                                    0\n",
       "finals MVP wins                                               0\n",
       "most valuable player of the year wins                         0\n",
       "championships                                                 0\n",
       "Average of 5 highest value over replacement player seasons    0\n",
       "Average of 5 highest box plus minus seasons                   0\n",
       "Average of 5 highest defensive box plus minus seasons         0\n",
       "Average of 5 highest offensive box plus minus seasons         0\n",
       "Average of 5 highest win shares per 48 minutes seasons        0\n",
       "Average of 5 highest win shares seasons                       0\n",
       "Average of 5 highest defensive win shares seasons             0\n",
       "Average of 5 highest offensive win shares seasons             0\n",
       "Average of 5 highest usage percentage seasons                 0\n",
       "Average of 5 highest turnover percentage seasons              0\n",
       "Average of 5 highest block percentage seasons                 0\n",
       "Average of 5 highest steal percentage seasons                 0\n",
       "Average of 5 highest assist percentage seasons                0\n",
       "Average of 5 highest total rebounds percentage seasons        0\n",
       "Average of 5 highest defensive rebounds percentage seasons    0\n",
       "Average of 5 highest offensive rebounds percentage seasons    0\n",
       "Average of 5 highest free throw rate seasons                  0\n",
       "Average of 5 highest three point attempt rate seasons         0\n",
       "Average of 5 highest true shooting percentage seasons         0\n",
       "Average of 5 highest player efficiency rating seasons         0\n",
       "dtype: int64"
      ]
     },
     "execution_count": 11,
     "metadata": {},
     "output_type": "execute_result"
    }
   ],
   "source": [
    "hof.isna().sum()"
   ]
  },
  {
   "cell_type": "code",
   "execution_count": 12,
   "id": "b399d9cd326c312d",
   "metadata": {
    "ExecuteTime": {
     "end_time": "2023-12-10T20:43:49.034499100Z",
     "start_time": "2023-12-10T20:43:49.023534600Z"
    }
   },
   "outputs": [],
   "source": [
    "hof['hof'] = hof['hof'].astype(int)"
   ]
  },
  {
   "cell_type": "code",
   "execution_count": 13,
   "id": "cb31d09bd1bad732",
   "metadata": {
    "ExecuteTime": {
     "end_time": "2023-12-10T20:43:49.065909900Z",
     "start_time": "2023-12-10T20:43:49.051444100Z"
    }
   },
   "outputs": [
    {
     "data": {
      "text/html": [
       "<div>\n",
       "<style scoped>\n",
       "    .dataframe tbody tr th:only-of-type {\n",
       "        vertical-align: middle;\n",
       "    }\n",
       "\n",
       "    .dataframe tbody tr th {\n",
       "        vertical-align: top;\n",
       "    }\n",
       "\n",
       "    .dataframe thead th {\n",
       "        text-align: right;\n",
       "    }\n",
       "</style>\n",
       "<table border=\"1\" class=\"dataframe\">\n",
       "  <thead>\n",
       "    <tr style=\"text-align: right;\">\n",
       "      <th></th>\n",
       "      <th>player_id</th>\n",
       "      <th>player</th>\n",
       "      <th>hof</th>\n",
       "      <th>first_seas</th>\n",
       "      <th>last_seas</th>\n",
       "      <th>Leaderboard points</th>\n",
       "      <th>height</th>\n",
       "      <th>weight</th>\n",
       "      <th>games</th>\n",
       "      <th>points</th>\n",
       "      <th>...</th>\n",
       "      <th>Average of 5 highest block percentage seasons</th>\n",
       "      <th>Average of 5 highest steal percentage seasons</th>\n",
       "      <th>Average of 5 highest assist percentage seasons</th>\n",
       "      <th>Average of 5 highest total rebounds percentage seasons</th>\n",
       "      <th>Average of 5 highest defensive rebounds percentage seasons</th>\n",
       "      <th>Average of 5 highest offensive rebounds percentage seasons</th>\n",
       "      <th>Average of 5 highest free throw rate seasons</th>\n",
       "      <th>Average of 5 highest three point attempt rate seasons</th>\n",
       "      <th>Average of 5 highest true shooting percentage seasons</th>\n",
       "      <th>Average of 5 highest player efficiency rating seasons</th>\n",
       "    </tr>\n",
       "  </thead>\n",
       "  <tbody>\n",
       "    <tr>\n",
       "      <th>2263</th>\n",
       "      <td>2264</td>\n",
       "      <td>Patrick Ewing</td>\n",
       "      <td>1</td>\n",
       "      <td>1986</td>\n",
       "      <td>2002</td>\n",
       "      <td>216.5</td>\n",
       "      <td>7.000000</td>\n",
       "      <td>240.0</td>\n",
       "      <td>1183</td>\n",
       "      <td>21.0</td>\n",
       "      <td>...</td>\n",
       "      <td>5.76</td>\n",
       "      <td>1.8</td>\n",
       "      <td>12.36</td>\n",
       "      <td>17.86</td>\n",
       "      <td>27.72</td>\n",
       "      <td>8.9</td>\n",
       "      <td>0.4214</td>\n",
       "      <td>0.0112</td>\n",
       "      <td>0.5848</td>\n",
       "      <td>23.7</td>\n",
       "    </tr>\n",
       "    <tr>\n",
       "      <th>3966</th>\n",
       "      <td>3967</td>\n",
       "      <td>Patrick Ewing</td>\n",
       "      <td>0</td>\n",
       "      <td>2011</td>\n",
       "      <td>2011</td>\n",
       "      <td>0.0</td>\n",
       "      <td>6.666667</td>\n",
       "      <td>235.0</td>\n",
       "      <td>7</td>\n",
       "      <td>0.4</td>\n",
       "      <td>...</td>\n",
       "      <td>4.40</td>\n",
       "      <td>0.0</td>\n",
       "      <td>14.20</td>\n",
       "      <td>6.40</td>\n",
       "      <td>6.40</td>\n",
       "      <td>6.4</td>\n",
       "      <td>0.8000</td>\n",
       "      <td>0.4000</td>\n",
       "      <td>0.2220</td>\n",
       "      <td>0.6</td>\n",
       "    </tr>\n",
       "  </tbody>\n",
       "</table>\n",
       "<p>2 rows × 50 columns</p>\n",
       "</div>"
      ],
      "text/plain": [
       "      player_id         player  hof  first_seas  last_seas  \\\n",
       "2263       2264  Patrick Ewing    1        1986       2002   \n",
       "3966       3967  Patrick Ewing    0        2011       2011   \n",
       "\n",
       "      Leaderboard points    height  weight  games  points  ...  \\\n",
       "2263               216.5  7.000000   240.0   1183    21.0  ...   \n",
       "3966                 0.0  6.666667   235.0      7     0.4  ...   \n",
       "\n",
       "      Average of 5 highest block percentage seasons  \\\n",
       "2263                                           5.76   \n",
       "3966                                           4.40   \n",
       "\n",
       "      Average of 5 highest steal percentage seasons  \\\n",
       "2263                                            1.8   \n",
       "3966                                            0.0   \n",
       "\n",
       "      Average of 5 highest assist percentage seasons  \\\n",
       "2263                                           12.36   \n",
       "3966                                           14.20   \n",
       "\n",
       "      Average of 5 highest total rebounds percentage seasons  \\\n",
       "2263                                              17.86        \n",
       "3966                                               6.40        \n",
       "\n",
       "      Average of 5 highest defensive rebounds percentage seasons  \\\n",
       "2263                                              27.72            \n",
       "3966                                               6.40            \n",
       "\n",
       "      Average of 5 highest offensive rebounds percentage seasons  \\\n",
       "2263                                                8.9            \n",
       "3966                                                6.4            \n",
       "\n",
       "      Average of 5 highest free throw rate seasons  \\\n",
       "2263                                        0.4214   \n",
       "3966                                        0.8000   \n",
       "\n",
       "      Average of 5 highest three point attempt rate seasons  \\\n",
       "2263                                             0.0112       \n",
       "3966                                             0.4000       \n",
       "\n",
       "      Average of 5 highest true shooting percentage seasons  \\\n",
       "2263                                             0.5848       \n",
       "3966                                             0.2220       \n",
       "\n",
       "      Average of 5 highest player efficiency rating seasons  \n",
       "2263                                               23.7      \n",
       "3966                                                0.6      \n",
       "\n",
       "[2 rows x 50 columns]"
      ]
     },
     "execution_count": 13,
     "metadata": {},
     "output_type": "execute_result"
    }
   ],
   "source": [
    "hof[hof['player']=='Patrick Ewing']"
   ]
  },
  {
   "cell_type": "code",
   "execution_count": 14,
   "id": "9beb9d82322d7734",
   "metadata": {},
   "outputs": [],
   "source": [
    "hof.drop(3966,inplace=True)"
   ]
  },
  {
   "cell_type": "code",
   "execution_count": 15,
   "id": "ea5c9498528c953a",
   "metadata": {
    "ExecuteTime": {
     "end_time": "2023-12-10T20:43:49.903771Z",
     "start_time": "2023-12-10T20:43:49.065909900Z"
    }
   },
   "outputs": [
    {
     "name": "stdout",
     "output_type": "stream",
     "text": [
      "Logistic Regression\n",
      "[[907   3]\n",
      " [ 11  25]]\n",
      "              precision    recall  f1-score   support\n",
      "\n",
      "           0       0.99      1.00      0.99       910\n",
      "           1       0.89      0.69      0.78        36\n",
      "\n",
      "    accuracy                           0.99       946\n",
      "   macro avg       0.94      0.85      0.89       946\n",
      "weighted avg       0.98      0.99      0.98       946\n",
      "\n",
      "Random Forest\n",
      "[[907   3]\n",
      " [ 10  26]]\n",
      "              precision    recall  f1-score   support\n",
      "\n",
      "           0       0.99      1.00      0.99       910\n",
      "           1       0.90      0.72      0.80        36\n",
      "\n",
      "    accuracy                           0.99       946\n",
      "   macro avg       0.94      0.86      0.90       946\n",
      "weighted avg       0.99      0.99      0.99       946\n",
      "\n",
      "K Nearest Neighbor\n",
      "[[904   6]\n",
      " [ 13  23]]\n",
      "              precision    recall  f1-score   support\n",
      "\n",
      "           0       0.99      0.99      0.99       910\n",
      "           1       0.79      0.64      0.71        36\n",
      "\n",
      "    accuracy                           0.98       946\n",
      "   macro avg       0.89      0.82      0.85       946\n",
      "weighted avg       0.98      0.98      0.98       946\n",
      "\n"
     ]
    }
   ],
   "source": [
    "from sklearn.preprocessing import StandardScaler\n",
    "\n",
    "young=hof[(hof['last_seas']>2014) & (hof['hof']==0)]\n",
    "old=hof[hof['last_seas']<=2014]\n",
    "X_a=old.drop(['first_seas','last_seas','hof','player','player_id'],axis=1)\n",
    "y=old['hof']\n",
    "X= StandardScaler().fit_transform(X_a)\n",
    "X = pd.DataFrame(X, columns=X_a.columns, index=X_a.index)\n",
    "X_pred_a=young.drop(['first_seas','last_seas','hof','player','player_id'],axis=1)\n",
    "X_pred =StandardScaler().fit_transform(X_pred_a)\n",
    "X_pred = pd.DataFrame(X_pred, columns=X_pred_a.columns, index=X_pred_a.index)\n",
    "y_pred=young['hof']\n",
    "X_train, X_test, y_train, y_test = train_test_split(X, y, test_size=0.25, random_state=42)\n",
    "\n",
    "knn = KNeighborsClassifier(n_neighbors=1)\n",
    "knn.fit(X_train,y_train)\n",
    "pred_knn = knn.predict(X_test)\n",
    "knn_prob=knn.predict_proba(X_pred)[:,-1]\n",
    "\n",
    "logmodel=LogisticRegression(max_iter=10000)\n",
    "logmodel.fit(X_train,y_train)\n",
    "pred_log=logmodel.predict(X_test)\n",
    "log_prob=logmodel.predict_proba(X_pred)[:,-1]\n",
    "\n",
    "rfc=RandomForestClassifier(n_estimators=200)\n",
    "rfc.fit(X_train,y_train)\n",
    "pred_rfc=rfc.predict(X_test)\n",
    "rfc_prob=rfc.predict_proba(X_pred)[:,-1]\n",
    "\n",
    "\n",
    "print('Logistic Regression')\n",
    "print(confusion_matrix(y_test,pred_log))\n",
    "print(classification_report(y_test,pred_log))\n",
    "\n",
    "print('Random Forest')\n",
    "print(confusion_matrix(y_test,pred_rfc))\n",
    "print(classification_report(y_test,pred_rfc))\n",
    "\n",
    "\n",
    "print('K Nearest Neighbor')\n",
    "print(confusion_matrix(y_test,pred_knn))\n",
    "print(classification_report(y_test,pred_knn))\n",
    "\n",
    "\n"
   ]
  },
  {
   "cell_type": "code",
   "execution_count": 16,
   "id": "5f38b46be25a158",
   "metadata": {
    "ExecuteTime": {
     "end_time": "2023-12-10T20:43:49.921957500Z",
     "start_time": "2023-12-10T20:43:49.895540600Z"
    }
   },
   "outputs": [],
   "source": [
    "res=pd.concat([X_pred,y_pred],axis=1)\n",
    "\n",
    "#res['log_pred']=pred_log\n",
    "res['log_prob']=log_prob\n",
    "\n",
    "#res['rfc_pred']=pred_rfc\n",
    "res['rfc_prob']=rfc_prob\n",
    "\n",
    "#res['knn_pred']=pred_knn\n",
    "res['knn_prob']=knn_prob\n",
    "\n",
    "res_final=pd.concat([res,hof['player']],axis=1).dropna()"
   ]
  },
  {
   "cell_type": "code",
   "execution_count": 17,
   "id": "64544fa144b44ceb",
   "metadata": {
    "ExecuteTime": {
     "end_time": "2023-12-10T20:43:49.922978700Z",
     "start_time": "2023-12-10T20:43:49.909924600Z"
    }
   },
   "outputs": [
    {
     "data": {
      "text/html": [
       "<div>\n",
       "<style scoped>\n",
       "    .dataframe tbody tr th:only-of-type {\n",
       "        vertical-align: middle;\n",
       "    }\n",
       "\n",
       "    .dataframe tbody tr th {\n",
       "        vertical-align: top;\n",
       "    }\n",
       "\n",
       "    .dataframe thead th {\n",
       "        text-align: right;\n",
       "    }\n",
       "</style>\n",
       "<table border=\"1\" class=\"dataframe\">\n",
       "  <thead>\n",
       "    <tr style=\"text-align: right;\">\n",
       "      <th></th>\n",
       "      <th>player</th>\n",
       "      <th>log_prob</th>\n",
       "    </tr>\n",
       "  </thead>\n",
       "  <tbody>\n",
       "    <tr>\n",
       "      <th>3462</th>\n",
       "      <td>LeBron James</td>\n",
       "      <td>1.000000e+00</td>\n",
       "    </tr>\n",
       "    <tr>\n",
       "      <th>3902</th>\n",
       "      <td>Stephen Curry</td>\n",
       "      <td>1.000000e+00</td>\n",
       "    </tr>\n",
       "    <tr>\n",
       "      <th>3769</th>\n",
       "      <td>Kevin Durant</td>\n",
       "      <td>1.000000e+00</td>\n",
       "    </tr>\n",
       "    <tr>\n",
       "      <th>3848</th>\n",
       "      <td>Russell Westbrook</td>\n",
       "      <td>9.999998e-01</td>\n",
       "    </tr>\n",
       "    <tr>\n",
       "      <th>3584</th>\n",
       "      <td>Chris Paul</td>\n",
       "      <td>9.999998e-01</td>\n",
       "    </tr>\n",
       "    <tr>\n",
       "      <th>...</th>\n",
       "      <td>...</td>\n",
       "      <td>...</td>\n",
       "    </tr>\n",
       "    <tr>\n",
       "      <th>4552</th>\n",
       "      <td>Naz Mitrou-Long</td>\n",
       "      <td>5.773052e-06</td>\n",
       "    </tr>\n",
       "    <tr>\n",
       "      <th>4997</th>\n",
       "      <td>Paris Bass</td>\n",
       "      <td>3.129570e-06</td>\n",
       "    </tr>\n",
       "    <tr>\n",
       "      <th>5116</th>\n",
       "      <td>Brice Sensabaugh</td>\n",
       "      <td>2.183623e-06</td>\n",
       "    </tr>\n",
       "    <tr>\n",
       "      <th>4258</th>\n",
       "      <td>Jerrelle Benimon</td>\n",
       "      <td>7.504207e-07</td>\n",
       "    </tr>\n",
       "    <tr>\n",
       "      <th>4679</th>\n",
       "      <td>Tyler Davis</td>\n",
       "      <td>3.108451e-09</td>\n",
       "    </tr>\n",
       "  </tbody>\n",
       "</table>\n",
       "<p>1364 rows × 2 columns</p>\n",
       "</div>"
      ],
      "text/plain": [
       "                 player      log_prob\n",
       "3462       LeBron James  1.000000e+00\n",
       "3902      Stephen Curry  1.000000e+00\n",
       "3769       Kevin Durant  1.000000e+00\n",
       "3848  Russell Westbrook  9.999998e-01\n",
       "3584         Chris Paul  9.999998e-01\n",
       "...                 ...           ...\n",
       "4552    Naz Mitrou-Long  5.773052e-06\n",
       "4997         Paris Bass  3.129570e-06\n",
       "5116   Brice Sensabaugh  2.183623e-06\n",
       "4258   Jerrelle Benimon  7.504207e-07\n",
       "4679        Tyler Davis  3.108451e-09\n",
       "\n",
       "[1364 rows x 2 columns]"
      ]
     },
     "execution_count": 17,
     "metadata": {},
     "output_type": "execute_result"
    }
   ],
   "source": [
    "final = res_final[['player','log_prob']]\n",
    "final.sort_values(by=['log_prob'],ascending=False)"
   ]
  },
  {
   "cell_type": "code",
   "execution_count": 18,
   "id": "f81a354beb0f6ccf",
   "metadata": {
    "ExecuteTime": {
     "end_time": "2023-12-10T20:43:52.105822100Z",
     "start_time": "2023-12-10T20:43:52.069929200Z"
    }
   },
   "outputs": [
    {
     "data": {
      "text/html": [
       "<div>\n",
       "<style scoped>\n",
       "    .dataframe tbody tr th:only-of-type {\n",
       "        vertical-align: middle;\n",
       "    }\n",
       "\n",
       "    .dataframe tbody tr th {\n",
       "        vertical-align: top;\n",
       "    }\n",
       "\n",
       "    .dataframe thead th {\n",
       "        text-align: right;\n",
       "    }\n",
       "</style>\n",
       "<table border=\"1\" class=\"dataframe\">\n",
       "  <thead>\n",
       "    <tr style=\"text-align: right;\">\n",
       "      <th></th>\n",
       "      <th>Leaderboard points</th>\n",
       "      <th>height</th>\n",
       "      <th>weight</th>\n",
       "      <th>games</th>\n",
       "      <th>points</th>\n",
       "      <th>total rebounds</th>\n",
       "      <th>total assists</th>\n",
       "      <th>field goal percentage</th>\n",
       "      <th>3-point field goal percentage</th>\n",
       "      <th>free throw percentage</th>\n",
       "      <th>...</th>\n",
       "      <th>Average of 5 highest block percentage seasons</th>\n",
       "      <th>Average of 5 highest steal percentage seasons</th>\n",
       "      <th>Average of 5 highest assist percentage seasons</th>\n",
       "      <th>Average of 5 highest total rebounds percentage seasons</th>\n",
       "      <th>Average of 5 highest defensive rebounds percentage seasons</th>\n",
       "      <th>Average of 5 highest offensive rebounds percentage seasons</th>\n",
       "      <th>Average of 5 highest free throw rate seasons</th>\n",
       "      <th>Average of 5 highest three point attempt rate seasons</th>\n",
       "      <th>Average of 5 highest true shooting percentage seasons</th>\n",
       "      <th>Average of 5 highest player efficiency rating seasons</th>\n",
       "    </tr>\n",
       "  </thead>\n",
       "  <tbody>\n",
       "    <tr>\n",
       "      <th>0</th>\n",
       "      <td>-0.063922</td>\n",
       "      <td>-0.017447</td>\n",
       "      <td>-0.253477</td>\n",
       "      <td>0.045252</td>\n",
       "      <td>0.506161</td>\n",
       "      <td>0.397552</td>\n",
       "      <td>0.523176</td>\n",
       "      <td>-0.185945</td>\n",
       "      <td>-0.237016</td>\n",
       "      <td>-0.108871</td>\n",
       "      <td>...</td>\n",
       "      <td>0.268984</td>\n",
       "      <td>-0.108533</td>\n",
       "      <td>-0.178295</td>\n",
       "      <td>-0.391167</td>\n",
       "      <td>0.303915</td>\n",
       "      <td>-0.606371</td>\n",
       "      <td>0.186125</td>\n",
       "      <td>0.051928</td>\n",
       "      <td>-0.299157</td>\n",
       "      <td>-0.009786</td>\n",
       "    </tr>\n",
       "  </tbody>\n",
       "</table>\n",
       "<p>1 rows × 45 columns</p>\n",
       "</div>"
      ],
      "text/plain": [
       "   Leaderboard points    height    weight     games    points  total rebounds  \\\n",
       "0           -0.063922 -0.017447 -0.253477  0.045252  0.506161        0.397552   \n",
       "\n",
       "   total assists  field goal percentage  3-point field goal percentage  \\\n",
       "0       0.523176              -0.185945                      -0.237016   \n",
       "\n",
       "   free throw percentage  ...  Average of 5 highest block percentage seasons  \\\n",
       "0              -0.108871  ...                                       0.268984   \n",
       "\n",
       "   Average of 5 highest steal percentage seasons  \\\n",
       "0                                      -0.108533   \n",
       "\n",
       "   Average of 5 highest assist percentage seasons  \\\n",
       "0                                       -0.178295   \n",
       "\n",
       "   Average of 5 highest total rebounds percentage seasons  \\\n",
       "0                                          -0.391167        \n",
       "\n",
       "   Average of 5 highest defensive rebounds percentage seasons  \\\n",
       "0                                           0.303915            \n",
       "\n",
       "   Average of 5 highest offensive rebounds percentage seasons  \\\n",
       "0                                          -0.606371            \n",
       "\n",
       "   Average of 5 highest free throw rate seasons  \\\n",
       "0                                      0.186125   \n",
       "\n",
       "   Average of 5 highest three point attempt rate seasons  \\\n",
       "0                                           0.051928       \n",
       "\n",
       "   Average of 5 highest true shooting percentage seasons  \\\n",
       "0                                          -0.299157       \n",
       "\n",
       "   Average of 5 highest player efficiency rating seasons  \n",
       "0                                          -0.009786      \n",
       "\n",
       "[1 rows x 45 columns]"
      ]
     },
     "execution_count": 18,
     "metadata": {},
     "output_type": "execute_result"
    }
   ],
   "source": [
    "pd.DataFrame(logmodel.coef_, columns=X_train.columns)"
   ]
  },
  {
   "cell_type": "code",
   "execution_count": 19,
   "id": "d0b92f321e234a73",
   "metadata": {
    "ExecuteTime": {
     "end_time": "2023-12-10T20:42:25.827116300Z",
     "start_time": "2023-12-10T20:42:25.808832300Z"
    }
   },
   "outputs": [
    {
     "data": {
      "text/plain": [
       "0.9901338971106413"
      ]
     },
     "execution_count": 19,
     "metadata": {},
     "output_type": "execute_result"
    }
   ],
   "source": [
    "logmodel.score(X_train,y_train)"
   ]
  },
  {
   "cell_type": "code",
   "execution_count": 20,
   "id": "f71507a5363f8f7a",
   "metadata": {
    "ExecuteTime": {
     "end_time": "2023-12-10T20:44:25.484565Z",
     "start_time": "2023-12-10T20:44:25.336916100Z"
    }
   },
   "outputs": [
    {
     "data": {
      "image/png": "[encoded data removed]",
      "text/plain": [
       "<Figure size 1000x500 with 1 Axes>"
      ]
     },
     "metadata": {},
     "output_type": "display_data"
    }
   ],
   "source": [
    "from sklearn.metrics import mean_squared_error\n",
    "import matplotlib.pyplot as plt \n",
    " \n",
    "  \n",
    "# creating the dataset\n",
    "data = {'Logistic Regression':mean_squared_error(pred_log, y_test), 'Random Forest':mean_squared_error(pred_rfc, y_test), \n",
    "        'KNN':mean_squared_error(pred_knn, y_test)}\n",
    "courses = list(data.keys())\n",
    "values = list(data.values())\n",
    "  \n",
    "fig = plt.figure(figsize = (10, 5))\n",
    " \n",
    "# creating the bar plot\n",
    "plt.bar(courses, values, color ='maroon', \n",
    "        width = 0.6)\n",
    "plt.xticks(fontsize= 20)\n",
    "plt.yticks(fontsize= 20)\n",
    "plt.xlabel(\"Model\", fontsize= 20)\n",
    "plt.ylabel(\"MSE\", fontsize= 20)\n",
    "plt.title(\"MSE based on the tested model\", fontsize=20)\n",
    "plt.show()"
   ]
  },
  {
   "cell_type": "code",
   "execution_count": null,
   "id": "e487398e395d23df",
   "metadata": {},
   "outputs": [],
   "source": []
  }
 ],
 "metadata": {
  "kernelspec": {
   "display_name": "Python 3 (ipykernel)",
   "language": "python",
   "name": "python3"
  },
  "language_info": {
   "codemirror_mode": {
    "name": "ipython",
    "version": 3
   },
   "file_extension": ".py",
   "mimetype": "text/x-python",
   "name": "python",
   "nbconvert_exporter": "python",
   "pygments_lexer": "ipython3",
   "version": "3.11.4"
  }
 },
 "nbformat": 4,
 "nbformat_minor": 5
}
